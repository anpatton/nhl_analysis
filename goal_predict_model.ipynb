{
 "cells": [
  {
   "cell_type": "code",
   "execution_count": 1,
   "metadata": {},
   "outputs": [],
   "source": [
    "import os\n",
    "import pandas as pd\n",
    "import numpy as np\n",
    "import matplotlib.pyplot as plt\n",
    "import psycopg2\n",
    "import sqlalchemy as sa\n",
    "\n"
   ]
  },
  {
   "cell_type": "code",
   "execution_count": 2,
   "metadata": {},
   "outputs": [],
   "source": [
    "#pulling in data from EW database and writing to file only need to run this once\n",
    "#engine = sa.create_engine(os.environ[\"EW_CONNECT\"])\n",
    "sql = \"\"\"\n",
    "select \n",
    "    player\n",
    "    ,player_upper\n",
    "    ,api_id::integer\n",
    "    ,birthday\n",
    "    ,season_age\n",
    "    ,position\n",
    "    ,position_type\n",
    "    ,shoots\n",
    "    ,team\n",
    "    ,season\n",
    "    ,session\n",
    "    ,gp\n",
    "    ,toi\n",
    "    ,toi_gp\n",
    "    ,toi_perc\n",
    "    ,g\n",
    "    ,a1\n",
    "    ,a2\n",
    "    ,points\n",
    "from skater_std_sum_all\n",
    "where session = 'R'\n",
    "\"\"\"\n",
    "#nhl_df = pd.read_sql(sql, engine)\n",
    "#nhl_df.to_csv('player_goal_data.csv')"
   ]
  },
  {
   "cell_type": "code",
   "execution_count": 5,
   "metadata": {},
   "outputs": [],
   "source": [
    "nhl_df = pd.read_csv('player_goal_data.csv')\n",
    "#convert season to integers\n",
    "nhl_df.season = nhl_df.season.astype(int)\n",
    "#create a column to join on to get the next season\n",
    "nhl_df['season_minus_one'] = nhl_df['season'] - 10001\n",
    "nhl_df = nhl_df.groupby(['player', 'api_id', 'season', 'season_minus_one', 'position_type'])['g'].sum().reset_index()"
   ]
  },
  {
   "cell_type": "code",
   "execution_count": 6,
   "metadata": {},
   "outputs": [],
   "source": [
    "#create dataframe of season to season goal correlation\n",
    "new_df = nhl_df[['player', 'api_id', 'g', 'season', 'season_minus_one', 'position_type']].merge(\n",
    "        nhl_df[['player', 'api_id', 'g', 'season', 'season_minus_one', 'position_type']], how='inner',\n",
    "        left_on=['api_id', 'season'], right_on=['api_id', 'season_minus_one'])\n",
    "\n",
    "#create dataframe for forwards only\n",
    "forwards_df = new_df[new_df.position_type_x == 'F']\n",
    "#create dataframe for defense only\n",
    "defense_df = new_df[new_df.position_type_x == 'D']"
   ]
  },
  {
   "cell_type": "code",
   "execution_count": 7,
   "metadata": {},
   "outputs": [
    {
     "data": {
      "text/plain": [
       "<matplotlib.collections.PathCollection at 0x122e144c0>"
      ]
     },
     "execution_count": 7,
     "metadata": {},
     "output_type": "execute_result"
    },
    {
     "data": {
      "image/png": "[encoded data removed]",
      "text/plain": [
       "<Figure size 432x288 with 1 Axes>"
      ]
     },
     "metadata": {
      "needs_background": "light"
     },
     "output_type": "display_data"
    }
   ],
   "source": [
    "#total scatter correlation\n",
    "#this is the test of linearity\n",
    "plt.scatter(new_df[['g_x']], new_df[['g_y']])"
   ]
  },
  {
   "cell_type": "code",
   "execution_count": 11,
   "metadata": {},
   "outputs": [],
   "source": [
    "#pearson correlation coefficients\n",
    "forward_corr = forwards_df['g_x'].corr(forwards_df['g_y'])\n",
    "def_corr = defense_df['g_x'].corr(defense_df['g_y'])\n",
    "total_corr = new_df['g_x'].corr(new_df['g_y'])\n",
    "print((f\"Foward pearson R: {round(forward_corr, 2)}\\n\"\n",
    "       f\"Defense pearson R: {round(def_corr, 2)}\\n\"\n",
    "       f\"All Position Pearson R: {round(total_corr, 2)}\"))"
   ]
  },
  {
   "cell_type": "code",
   "execution_count": 19,
   "metadata": {},
   "outputs": [
    {
     "data": {
      "text/plain": [
       "(array([3.379e+03, 1.316e+03, 9.360e+02, 6.880e+02, 7.750e+02, 4.030e+02,\n",
       "        3.390e+02, 2.610e+02, 2.510e+02, 1.210e+02, 8.200e+01, 3.900e+01,\n",
       "        4.300e+01, 1.400e+01, 4.000e+00, 1.100e+01, 2.000e+00, 1.000e+00,\n",
       "        1.000e+00, 1.000e+00]),\n",
       " array([ 0.  ,  3.25,  6.5 ,  9.75, 13.  , 16.25, 19.5 , 22.75, 26.  ,\n",
       "        29.25, 32.5 , 35.75, 39.  , 42.25, 45.5 , 48.75, 52.  , 55.25,\n",
       "        58.5 , 61.75, 65.  ]),\n",
       " <BarContainer object of 20 artists>)"
      ]
     },
     "execution_count": 19,
     "metadata": {},
     "output_type": "execute_result"
    },
    {
     "data": {
      "image/png": "[encoded data removed]",
      "text/plain": [
       "<Figure size 432x288 with 1 Axes>"
      ]
     },
     "metadata": {
      "needs_background": "light"
     },
     "output_type": "display_data"
    }
   ],
   "source": [
    "#Distribution of the data fits a poisson or pareto distribution\n",
    "#this may be useful for more advanced models\n",
    "plt.hist(new_df.g_x, bins=20)"
   ]
  },
  {
   "cell_type": "code",
   "execution_count": 22,
   "metadata": {},
   "outputs": [],
   "source": [
    "#create a baseline linear model using previous season goals to predict next season\n",
    "#goals\n",
    "\n",
    "from sklearn.model_selection import train_test_split\n",
    "\n",
    "#create test and train dataframes\n",
    "train_df, test_df = train_test_split(new_df, test_size=0.2, random_state=8675309)\n",
    "\n"
   ]
  },
  {
   "cell_type": "code",
   "execution_count": 85,
   "metadata": {},
   "outputs": [
    {
     "data": {
      "text/plain": [
       "BaggingRegressor(base_estimator=LinearRegression(), n_estimators=5000)"
      ]
     },
     "execution_count": 85,
     "metadata": {},
     "output_type": "execute_result"
    }
   ],
   "source": [
    "from sklearn.linear_model import LinearRegression\n",
    "from sklearn.ensemble import BaggingRegressor\n",
    "from sklearn.metrics import mean_squared_error, r2_score\n",
    "\n",
    "n_estimators = 5000\n",
    "reg = BaggingRegressor(LinearRegression(), n_estimators=n_estimators, bootstrap=True)\n",
    "\n",
    "reg.fit(train_df[['g_x']], train_df[['g_y']].values[:,0])"
   ]
  },
  {
   "cell_type": "code",
   "execution_count": 86,
   "metadata": {},
   "outputs": [],
   "source": [
    "#This is bootstrapping a confidence interval for the results of linear regresssions\n",
    "def bootstrap_prediction(bag_reg: BaggingRegressor, value: int):\n",
    "    results = []\n",
    "    for m in reg.estimators_:\n",
    "        results.append(m.predict(np.array([[value]]))[0])\n",
    "    return results"
   ]
  },
  {
   "cell_type": "code",
   "execution_count": 87,
   "metadata": {},
   "outputs": [
    {
     "data": {
      "text/plain": [
       "(array([  2.,   6.,  25.,  74., 126., 228., 355., 471., 611., 694., 676.,\n",
       "        598., 462., 292., 194.,  99.,  51.,  24.,   6.,   6.]),\n",
       " array([9.25187292, 9.27929777, 9.30672263, 9.33414748, 9.36157233,\n",
       "        9.38899718, 9.41642203, 9.44384688, 9.47127174, 9.49869659,\n",
       "        9.52612144, 9.55354629, 9.58097114, 9.608396  , 9.63582085,\n",
       "        9.6632457 , 9.69067055, 9.7180954 , 9.74552025, 9.77294511,\n",
       "        9.80036996]),\n",
       " <BarContainer object of 20 artists>)"
      ]
     },
     "execution_count": 87,
     "metadata": {},
     "output_type": "execute_result"
    },
    {
     "data": {
      "image/png": "[encoded data removed]",
      "text/plain": [
       "<Figure size 432x288 with 1 Axes>"
      ]
     },
     "metadata": {
      "needs_background": "light"
     },
     "output_type": "display_data"
    }
   ],
   "source": [
    "results = bootstrap_prediction(reg, 10)\n",
    "plt.hist(results, bins=20)"
   ]
  },
  {
   "cell_type": "code",
   "execution_count": 88,
   "metadata": {},
   "outputs": [
    {
     "name": "stdout",
     "output_type": "stream",
     "text": [
      "Baseline linear model train set metrics:\n",
      "R^2 for train set: 0.5009\n",
      "Mean Squared Error for train set: 35.5194\n",
      "Root Mean Squared Error for train set: 5.959865770300536\n"
     ]
    }
   ],
   "source": [
    "import math\n",
    "pd.options.mode.chained_assignment = None \n",
    "train_df[['y_hat']] = reg.predict(train_df[['g_x']])\n",
    "#Testing the coefficient of determination in the training set. R^2 is the proportion\n",
    "#of the variance in the dependent variable that is predictable from the independent variables\n",
    "r_squared = reg.score(train_df[['g_y']], train_df[['y_hat']])\n",
    "#Mean Squared Error is used to compare between different models where the smaller the number the better\n",
    "#An unbiased esitmator with the smallest variance among all unbiased estimators is the best unbiased\n",
    "#estimator or MVUE(minimum Variance Unbiased Estimator)\n",
    "mse = mean_squared_error(train_df[['g_y']], train_df[['y_hat']])\n",
    "print((\"Baseline linear model train set metrics:\\n\"\n",
    "       f\"R^2 for train set: {round(r_squared, 4)}\\n\"\n",
    "       f\"Mean Squared Error for train set: {round(mse, 4)}\\n\"\n",
    "       f\"Root Mean Squared Error for train set: {math.sqrt(round(mse, 2))}\"))"
   ]
  },
  {
   "cell_type": "code",
   "execution_count": 46,
   "metadata": {},
   "outputs": [],
   "source": [
    "#Now start building a new linear model that takes into affect new features and maybe use \n",
    "#ridge or lasso for feature selection\n"
   ]
  },
  {
   "cell_type": "code",
   "execution_count": null,
   "metadata": {},
   "outputs": [],
   "source": [
    "#write a funciton to determine the pareto division of how much of the fat tail is held by what \n",
    "#percentage of players"
   ]
  },
  {
   "cell_type": "code",
   "execution_count": 216,
   "metadata": {},
   "outputs": [],
   "source": [
    "#pareto distribution function\n",
    "import math\n",
    "alpha = 1/(1-(math.log10(.7)/math.log10(0.3)))\n",
    "x_sub_m = 1\n",
    "def pareto_prob(x):\n",
    "    \"\"\"\n",
    "    returns probability that some number X will be greater than x by the distribution of the Pareto curve\n",
    "    defined by observed goal scoring behavior\n",
    "    \"\"\"\n",
    "    alpha = 1/(1-(math.log10(.7)/math.log10(0.3)))\n",
    "    x_sub_m = 1\n",
    "    return (x_sub_m/x)^alpha"
   ]
  },
  {
   "cell_type": "code",
   "execution_count": null,
   "metadata": {},
   "outputs": [],
   "source": []
  }
 ],
 "metadata": {
  "kernelspec": {
   "display_name": "nhl",
   "language": "python",
   "name": "nhl"
  },
  "language_info": {
   "codemirror_mode": {
    "name": "ipython",
    "version": 3
   },
   "file_extension": ".py",
   "mimetype": "text/x-python",
   "name": "python",
   "nbconvert_exporter": "python",
   "pygments_lexer": "ipython3",
   "version": "3.8.5"
  }
 },
 "nbformat": 4,
 "nbformat_minor": 4
}
