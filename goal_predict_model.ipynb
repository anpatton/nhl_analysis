{
 "cells": [
  {
   "cell_type": "markdown",
   "metadata": {},
   "source": [
    "# Exploring Linear Regression\n",
    "\n",
    "Welcome everybody! I'm going to be exploring some different types of Linear Regression in this article and how to build models with them. Today's dataset is NHL player stats from 20082009 to present and we'll attempt to predict a players goal totals previous season stats. Just a heads up that the purpose of this article is to explore Linear Regression models and how to build/evaluate them, not to build the best possible model! Yes there are probably better options to solve this problem. However Linear Regression is great for building base line models; a model you can measure future results against. Sometimes you may find that the model you spent days training barely outperforms a Linear Regression that took 5 minutes! Without the baseline model to compare against, it would be impossible to tell how well the model actually works outside the vacuum of your experiement. I will be providing the code I'll be using \n",
    "\n",
    "## Thanks\n",
    "\n",
    "I'd like to think Josh and Luke Youngreen, Ben Baldwin, and Andrew Patton for reading and providing feed back on this article"
   ]
  },
  {
   "cell_type": "markdown",
   "metadata": {},
   "source": [
    "Importing packages we'll need for the model building. Ill be using Scikit-Learn for the model building, pandas/numpy for data shaping, and seaborn/matplotlib."
   ]
  },
  {
   "cell_type": "code",
   "execution_count": 232,
   "metadata": {},
   "outputs": [],
   "source": [
    "import os\n",
    "import math\n",
    "from functools import reduce\n",
    "import itertools\n",
    "import time\n",
    "\n",
    "import pandas as pd\n",
    "import numpy as np\n",
    "import matplotlib.pyplot as plt\n",
    "from sklearn.linear_model import LinearRegression, RidgeCV, ElasticNetCV, LassoCV\n",
    "from sklearn.ensemble import BaggingRegressor\n",
    "from sklearn.metrics import mean_squared_error, r2_score, mean_absolute_error\n",
    "from sklearn.model_selection import KFold, train_test_split\n",
    "from sklearn.feature_selection import SelectKBest, f_classif\n",
    "import seaborn as sns\n",
    "\n",
    "pd.set_option('display.max_columns', None)\n",
    "pd.set_option('display.max_rows', None)\n"
   ]
  },
  {
   "cell_type": "markdown",
   "metadata": {},
   "source": [
    "Here I'm pulling in box score stats at even strength and power play regular season stats for all players from 20072008 to present. All data provided by evolving-hockey.com"
   ]
  },
  {
   "cell_type": "code",
   "execution_count": 233,
   "metadata": {},
   "outputs": [],
   "source": [
    "#reading in csv files to dataframes\n",
    "ev_df = pd.read_csv('ev_player_goal_data.csv')\n",
    "pp_df = pd.read_csv('pp_player_goal_data.csv')\n"
   ]
  },
  {
   "cell_type": "markdown",
   "metadata": {},
   "source": [
    "Here I'm grouping the rows together of the dataframes because some players played for multiple teams so I'm roling them up so there will be one row for each player/season combo"
   ]
  },
  {
   "cell_type": "code",
   "execution_count": 234,
   "metadata": {},
   "outputs": [],
   "source": [
    "def group_data(df):\n",
    "    df.season = df.season.astype(int)\n",
    "    df['prev_season'] = df['season'] - 10001\n",
    "    groupby_columns = ['player', 'api_id', 'season', 'player_upper', \n",
    "                       'birthday', 'position', 'shoots',\n",
    "                       'prev_season', 'position_type', \n",
    "                       'season_age']\n",
    "    agg_columns = ['g', 'a1', 'a2', 'points', 'toi', 'gp', 'isf', 'iff', 'icf']\n",
    "    df = df.groupby(groupby_columns)[agg_columns].sum().reset_index()\n",
    "    return df\n",
    "\n",
    "ev_df = group_data(ev_df)\n",
    "pp_df = group_data(pp_df)"
   ]
  },
  {
   "cell_type": "markdown",
   "metadata": {},
   "source": [
    "### Dataframe Shaping"
   ]
  },
  {
   "cell_type": "code",
   "execution_count": 235,
   "metadata": {},
   "outputs": [],
   "source": [
    "#join the pp stats to the regular stats\n",
    "total_df = ev_df.merge(pp_df[['api_id', 'g', 'a1', 'a2', 'season',\n",
    "                              'points', 'toi', 'gp', 'isf', 'iff', 'icf']], \n",
    "                       on=['api_id', 'season'],\n",
    "                       how='left',\n",
    "                       suffixes=[None, '_pp'])\n",
    "\n",
    "total_df.fillna(0, inplace=True)\n",
    "\n",
    "\n",
    "#create dataframe of season to season goal correlation\n",
    "next_df = total_df.merge(total_df[['api_id', 'season', 'prev_season', 'g', 'g_pp', 'season_age']], \n",
    "                         how='left',\n",
    "                         left_on=['api_id', 'season'], \n",
    "                         right_on=['api_id', 'prev_season'],\n",
    "                         suffixes=[None, '_next'])\n",
    "\n",
    "next_df['total_goals_next'] = next_df['g_next'] + next_df['g_pp_next']\n",
    "next_df['total_goals'] = next_df['g'] + next_df['g_pp']"
   ]
  },
  {
   "cell_type": "markdown",
   "metadata": {},
   "source": [
    "### Feature Selection/Creation\n"
   ]
  },
  {
   "cell_type": "code",
   "execution_count": 236,
   "metadata": {},
   "outputs": [],
   "source": [
    "#features:\n",
    "#2. player age\n",
    "#4. position (dummy variable)\n",
    "#5. toi_gp\n",
    "#6. previous years goals \n",
    "#7. previous years a1 \n",
    "#8. previous years a2 \n",
    "#9. previous years points \n",
    "#10. Past average of past two years \n",
    "#11. pp_toi\n",
    "#12. shooting percentage\n",
    "#13. shooting percentage difference from carreer shooting percentage \n",
    "#14. career goals per season average \n",
    "#position dummy variable\n",
    "next_df = pd.concat([next_df, pd.get_dummies(next_df['position_type'], prefix='pos')], axis=1)\n",
    "#toi_gp\n",
    "next_df['toi_gp'] = round(next_df['toi']/next_df['gp'], 2)\n",
    "next_df['sh_percent'] = round(next_df['g']/next_df['isf'], 3)\n",
    "next_df['sh_percent_pp'] = round(next_df['g_pp']/next_df['isf_pp'], 3)\n",
    "\n",
    "#avg goals over career\n",
    "next_df = next_df.sort_values(['api_id', 'season'])\n",
    "next_df[\"number_season\"] = next_df.groupby(\"api_id\")[\"season\"].rank(method=\"first\", ascending=True)\n",
    "\n",
    "next_df['goals_shift'] = next_df['g'] + next_df['g'].shift(1)\n",
    "next_df['cum_goals'] = np.where(next_df['api_id'] == next_df['api_id'].shift(1), \n",
    "                                    next_df['goals_shift'], \n",
    "                                    next_df['g'])\n",
    "next_df['avg_goals_season'] = next_df['cum_goals']/next_df['number_season']\n",
    "\n",
    "#avg shooting percentage over career\n",
    "next_df['cum_shots'] = np.where(next_df['api_id'] == next_df['api_id'].shift(1), \n",
    "                                    next_df['isf'] + next_df['isf'].shift(1), \n",
    "                                    next_df['isf'])\n",
    "next_df['avg_sh_perc'] = round(next_df['cum_goals']/next_df['cum_shots'], 3)\n",
    "\n",
    "#diff of season sh% from career avg\n",
    "next_df['sh_perc_diff'] = next_df['sh_percent'] - next_df['avg_sh_perc']\n",
    "\n",
    "#last two seasons avg\n",
    "next_df['next_prev_season'] = next_df['prev_season'] - 10001\n",
    "next_df = next_df.merge(next_df[['api_id', 'season', 'g']], \n",
    "                        left_on=['api_id', 'prev_season'], \n",
    "                        right_on=['api_id','season'], how='left')\n",
    "next_df = next_df.merge(next_df[['api_id', 'season_x', 'g_x']], \n",
    "                        left_on=['api_id', 'next_prev_season'], \n",
    "                        right_on=['api_id','season_x'], how='left',\n",
    "                        suffixes=[None, '_z'])\n",
    "next_df['g_avg_past_2_seasons'] = (next_df['g_y'] + next_df['g_x_z'])/2\n",
    "\n",
    "#prorate goals for strike shortened season\n",
    "next_df['g_x'] = np.where(next_df['season_x'] == 20122013, \n",
    "                          (next_df['g_x']) * (82/48), next_df['g_x'])\n",
    "next_df['g_pp'] = np.where(next_df['season_x'] == 20122013, \n",
    "                           (next_df['g_pp']/next_df['gp']) * (82/48), next_df['g_pp'])\n",
    "\n",
    "#dropping the columns i don't need and renaming some to be more useful\n",
    "columns = ['player', 'api_id', 'season_x', 'player_upper', 'position', 'shoots', 'season_age_next',\n",
    "           'g_x', 'a1', 'a2', 'points', 'toi', 'gp', 'isf', 'iff', 'icf', 'g_pp', 'a1_pp', 'a2_pp',\n",
    "           'points_pp', 'toi_pp', 'gp_pp', 'isf_pp', 'iff_pp', 'season_next', 'g_next', 'pos_D',\n",
    "           'pos_D/F', 'pos_F', 'toi_gp', 'sh_percent', 'sh_percent_pp', 'avg_goals_season', 'avg_sh_perc', \n",
    "           'sh_perc_diff', 'g_avg_past_2_seasons', 'total_goals_next', 'g_next', 'g_pp_next']\n",
    "\n",
    "renamed_columns = ['player', 'api_id', 'season', 'player_upper', 'position', 'shoots', 'next_season_age',\n",
    "                   'g', 'a1', 'a2', 'points', 'toi', 'gp', 'isf', 'iff', 'icf', 'g_pp', 'a1_pp', 'a2_pp',\n",
    "                   'points_pp', 'toi_pp', 'gp_pp', 'isf_pp', 'iff_pp', 'season_next', 'g_next', 'pos_D',\n",
    "                   'pos_D/F', 'pos_F', 'toi_gp', 'sh_percent', 'sh_percent_pp', 'avg_goals_season', \n",
    "                   'avg_sh_perc', 'sh_perc_diff', 'g_avg_past_2_seasons', 'total_goals_next', 'ev_g_next',\n",
    "                   'g_pp_next']\n",
    "\n",
    "next_df = next_df[columns]\n",
    "next_df.columns = renamed_columns\n",
    "next_df = next_df.replace(np.nan, 0)\n",
    "feature_columns = [\n",
    "                   'g', 'a1', 'a2', 'toi', 'gp', 'isf', 'iff', 'g_pp', 'a1_pp', 'a2_pp',\n",
    "                   'toi_pp', 'isf_pp', 'iff_pp', 'pos_D',\n",
    "                   'pos_D/F', 'pos_F', 'toi_gp', 'sh_percent', 'sh_percent_pp', 'avg_goals_season', \n",
    "                   'avg_sh_perc', 'sh_perc_diff', 'g_avg_past_2_seasons'] \n",
    "target_column = ['total_goals_next']"
   ]
  },
  {
   "cell_type": "markdown",
   "metadata": {},
   "source": [
    "# Train/Test Split\n",
    "\n",
    "Here I am splitting the data into a training set and a test set. The training set will be what I build/train my models on. The test set will be used to demonstrate the model's efficacy at generalzing on data they were not trained with. It's a common practice to hold out 20% of your data set as a test set although this isn't a rule writtendd in stone. You wan't to balance the need of the model to have enough data to learn from while also allowing a large enough test set size so you have a good sample on which to base the model performance. I've seen people use 25% and 30% as well. I've also seen these called [in sample and out of sample data](https://stats.stackexchange.com/questions/260899/what-is-difference-between-in-sample-and-out-of-sample-forecasts) as well although I'm not sure how widespread that nomenclature is just be aware it exists so you aren't surprised when you run into it."
   ]
  },
  {
   "cell_type": "code",
   "execution_count": 237,
   "metadata": {},
   "outputs": [],
   "source": [
    "x_train, x_test, y_train, y_test = train_test_split(next_df[feature_columns], \n",
    "                                                    next_df[['total_goals_next']], \n",
    "                                                    test_size=0.2, random_state=8675309)"
   ]
  },
  {
   "cell_type": "markdown",
   "metadata": {},
   "source": [
    "# Correlations\n",
    "\n",
    "Let's look at the correlations between the existing features and our target variables to spot collinearity or features that don't correlate to extract them as inputs to the model. This can be done faster using some sort of regularized regression but to start we'll keep things a little manual and straight forward while relying on our domain knowledge to build the best model we can."
   ]
  },
  {
   "cell_type": "code",
   "execution_count": 238,
   "metadata": {
    "scrolled": true
   },
   "outputs": [
    {
     "data": {
      "text/plain": [
       "g                       0.687147\n",
       "isf                     0.631659\n",
       "iff                     0.626009\n",
       "avg_goals_season        0.610497\n",
       "isf_pp                  0.608668\n",
       "iff_pp                  0.605141\n",
       "toi_pp                  0.603602\n",
       "g_pp                    0.596156\n",
       "a1                      0.589914\n",
       "a1_pp                   0.492022\n",
       "a2_pp                   0.449491\n",
       "a2                      0.446420\n",
       "g_avg_past_2_seasons    0.441227\n",
       "gp                      0.434009\n",
       "toi                     0.419493\n",
       "Name: total_goals_next, dtype: float64"
      ]
     },
     "execution_count": 238,
     "metadata": {},
     "output_type": "execute_result"
    }
   ],
   "source": [
    "next_df.corr().loc[feature_columns, 'total_goals_next'].sort_values(ascending=False).head(15)"
   ]
  },
  {
   "cell_type": "code",
   "execution_count": 239,
   "metadata": {},
   "outputs": [],
   "source": [
    "#have to use f_classif because there are negative numbers\n",
    "'''\n",
    "Selecting the ten best features using ANOVA f test and then will compare a regular linear regression results \n",
    "to that of Lasso/Ridge/ElasticNet\n",
    "'''\n",
    "KBest = SelectKBest(score_func = f_classif, k=10)\n",
    "KBest = KBest.fit(x_train, y_train.values[:,0])\n"
   ]
  },
  {
   "cell_type": "markdown",
   "metadata": {},
   "source": [
    "As we can see the SelectKBest features and the correlation matrix doesn't disagree much in what are the best features in the model to predict next seasons goal. Next we need to see which of these are mulitcolinear meaning that the features are correlated among themselves as well as being correlated to the target variable. This can be a probably beause it doesn't allow one to interpret the coefficients of the features as easily.  Looking at the correlation matrix below lets take out iff, iff_pp, isf_pp as those are highly correlated to other stats. We will replace them with the next three best features that aren't also highly multicolinear which is 'pos_F', 'a1_pp', and 'gp' as you can see in the matrix below"
   ]
  },
  {
   "cell_type": "code",
   "execution_count": 240,
   "metadata": {
    "scrolled": true
   },
   "outputs": [
    {
     "data": {
      "image/png": "[encoded data removed]",
      "text/plain": [
       "<Figure size 648x648 with 2 Axes>"
      ]
     },
     "metadata": {
      "needs_background": "light"
     },
     "output_type": "display_data"
    }
   ],
   "source": [
    "corr_matrix = x_train.loc[:, list(x_train.columns[KBest.get_support()]) + ['pos_F', 'a1_pp', 'gp']].corr()\n",
    "# Draw the heatmap \n",
    "fig, ax = plt.subplots(figsize=(9,9))\n",
    "sns.heatmap(corr_matrix, annot=True, fmt='.2g')\n",
    "plt.show()"
   ]
  },
  {
   "cell_type": "code",
   "execution_count": 241,
   "metadata": {},
   "outputs": [],
   "source": [
    "#Our Final selected features as a blend of SelectKBest and Correlation Matrices\n",
    "selected_features = ['g', 'g_pp', 'isf', 'toi_pp', 'isf_pp', 'avg_goals_season', 'g_avg_past_2_seasons',\n",
    "                     'pos_F', 'gp', 'a1']"
   ]
  },
  {
   "cell_type": "markdown",
   "metadata": {},
   "source": [
    "# Standardization\n",
    "\n",
    "The last feature preprocessing of the data I will do is to Standardize the features being passed to each model. This is [required for Lasso and Ridge regressions](https://www.kaggle.com/questions-and-answers/59305) but I've decided to do it for OLS and ElasticNet as well as to keep everything equal. Standardization is the process of making sure each feature has a mean of 0 and a standard deviation of one by processing each value with this function: `x-mean(x)/standard_deviation(x)` (Liu). We'll include this step by creating a Scikit Pipeline that will transform our data and fit it all in one step"
   ]
  },
  {
   "cell_type": "code",
   "execution_count": 242,
   "metadata": {},
   "outputs": [],
   "source": [
    "#Standardizing the datasets\n",
    "from sklearn.preprocessing import StandardScaler\n",
    "from sklearn.pipeline import Pipeline\n",
    "\n",
    "\n",
    "#If you are repeating code a lot it's best to wrap it in a function as you'll see below it makes training\n",
    "#the models a lot easier and comparing their result on the test data sets\n",
    "\n",
    "def cv_model(x, y, model, n_estimators: int, n_splits: int, features: list=[]):\n",
    "    \n",
    "    feature_array = x[features]\n",
    "    estimator = Pipeline(steps=[('preprocessor', StandardScaler()),\n",
    "                                ('classifier', \n",
    "                                 BaggingRegressor(model, n_estimators=n_estimators, bootstrap=True))])\n",
    "    estimator.fit(feature_array, y.values[:, 0])\n",
    "\n",
    "    y_hat_values = estimator.predict(feature_array)\n",
    "    #Testing the coefficient of determination in the training set. R^2 is the proportion\n",
    "    #of the variance in the dependent variable that is predictable from the independent variables\n",
    "    r_squared = estimator.score(feature_array, y)\n",
    "    #Mean Squared Error is used to compare between different models where the smaller the number the better\n",
    "    #An unbiased esitmator with the smallest variance among all unbiased estimators is the best unbiased\n",
    "    #estimator or MVUE(minimum Variance Unbiased Estimator)\n",
    "    mse = mean_squared_error(y, y_hat_values)\n",
    "    rmse = math.sqrt(mse)\n",
    "    mae = mean_absolute_error(y, y_hat_values)\n",
    "\n",
    "    print(f\"Building model with features: {features}\")\n",
    "    print((\"Baseline linear model training set metrics:\\n\"\n",
    "           f\"R^2 for test set: {round(r_squared, 4)}\\n\"\n",
    "           f\"Mean Squared Error for training set: {round(mse, 4)}\\n\"\n",
    "           f\"Root Mean Squared Error for training set: {round(rmse, 4)}\\n\"\n",
    "           f\"Mean Absolute Error for training set: {round(mae, 4)}\\n\"\n",
    "           ))\n",
    " \n",
    "    return estimator\n",
    "\n",
    "#make producing Out of Sample metrics easier\n",
    "def oos_stats(x_test, y_test, features, model, model_name):\n",
    "    standardized_df = x_test[features]\n",
    "    mse = mean_squared_error(y_test, model.predict(standardized_df))\n",
    "    rmse = math.sqrt(mean_squared_error(y_test, model.predict(standardized_df)))\n",
    "    mae = mean_absolute_error(y_test, model.predict(standardized_df))\n",
    "    r_sq = model.score(standardized_df, y_test)\n",
    "    print(f\"Building {model_name} with features: {features}\")\n",
    "    print((f\"{model_name} model Out of Sample metrics:\\n\"\n",
    "           f\"R^2: {round(r_sq, 4)}\\n\"\n",
    "           f\"Mean Squared Error: {round(mse, 4)}\\n\"\n",
    "           f\"Root Mean Squared Error: {round(rmse, 4)}\\n\"\n",
    "           f\"Average Mean Absolute Error for test set: {round(mae, 4)}\"\n",
    "           ))"
   ]
  },
  {
   "cell_type": "markdown",
   "metadata": {},
   "source": [
    "# BaggingRegressor\n",
    "\n",
    "For all the regression models, I will be using Scikit Learns Bagging Regressor. The Bagging Regressor is a meta estimator that combines multiple regressions trained from data randomly drawn with replacement from our training data set known as Bootstrappping. Bagging itself means Bootstrap plus aggregating. So to break it down the bagging regressor gets passed a parameter `n_estimators` which will tell it how many base estimators to make. In order to create the dataset for each base estimator to train on, the algorithim will pull from the training data randomly with replacement. This means that you could draw the same row multiple times. For example, say i have a bag with a red jelly bean, a black jelly bean, and a white jelly bean. I need to draw a sample of three jelly beans. I draw the first one its red, I then replace the red jelly bean back in the bag meaning I could draw it again. I repeat this until i have drawn three jelly beans and this is my sample.\n",
    "\n",
    "By creating these multiple models based on random sampling it will allow us to create a distribution of what the number of goals the model expects a player to score in the next season. This allows us to judge the uncertainty of the model in its predictions by determining the variance and standard deviation of the results of each model for the player. (Brownlee)\n",
    "\n",
    "The first regression we will be working with in this article is the Ordinary Least Squares Linear regresssion. It is commonly abbreviated to OLS and that is how I will refer to it from now on."
   ]
  },
  {
   "cell_type": "code",
   "execution_count": 243,
   "metadata": {},
   "outputs": [
    {
     "name": "stdout",
     "output_type": "stream",
     "text": [
      "Building model with features: ['g', 'g_pp', 'isf', 'toi_pp', 'isf_pp', 'avg_goals_season', 'g_avg_past_2_seasons', 'pos_F', 'gp', 'a1']\n",
      "Baseline linear model training set metrics:\n",
      "R^2 for test set: 0.5527\n",
      "Mean Squared Error for training set: 27.5709\n",
      "Root Mean Squared Error for training set: 5.2508\n",
      "Mean Absolute Error for training set: 3.5746\n",
      "\n"
     ]
    }
   ],
   "source": [
    "estimator = cv_model(x_train, y_train, LinearRegression(), 500, 10, features=selected_features)"
   ]
  },
  {
   "cell_type": "code",
   "execution_count": 244,
   "metadata": {
    "scrolled": true
   },
   "outputs": [
    {
     "name": "stdout",
     "output_type": "stream",
     "text": [
      "Building Linear Regression with features: ['g', 'g_pp', 'isf', 'toi_pp', 'isf_pp', 'avg_goals_season', 'g_avg_past_2_seasons', 'pos_F', 'gp', 'a1']\n",
      "Linear Regression model Out of Sample metrics:\n",
      "R^2: 0.5364\n",
      "Mean Squared Error: 27.6984\n",
      "Root Mean Squared Error: 5.2629\n",
      "Average Mean Absolute Error for test set: 3.5089\n"
     ]
    }
   ],
   "source": [
    "oos_stats(x_test, y_test, selected_features, estimator, 'Linear Regression')"
   ]
  },
  {
   "cell_type": "markdown",
   "metadata": {},
   "source": [
    "# OLS Assumptions\n",
    "\n",
    "There are four principal assumptions which justify the use of linear regression models for purposes of inference or prediction. This list of assumptions is taken from the Duke notes on linear regression:\n",
    "\n",
    "1. linearity and additivity of the relationship between dependent and independent variables:\n",
    "    * The expected value of dependent variable is a straight-line function of each independent variable, holding the others fixed.\n",
    "    * The slope of that line does not depend on the values of the other variables.\n",
    "    * The effects of different independent variables on the expected value of the dependent variable are additive.\n",
    "\n",
    "\n",
    "2. statistical independence of the errors (in particular, no correlation between consecutive errors in the case of time series data)\n",
    "3. homoscedasticity (constant variance) of the errors:\n",
    "    * versus time (in the case of time series data)\n",
    "    * versus the predictions\n",
    "    * versus any independent variable\n",
    "        \n",
    "        \n",
    "4. normality of the error distribution. (Duke)\n"
   ]
  },
  {
   "cell_type": "markdown",
   "metadata": {},
   "source": [
    "# Violations of linearity or additivity\n",
    "\n",
    ">Violations of linearity or additivity are extremely serious: if you fit a linear model to data which are nonlinearly or nonadditively related, your predictions are likely to be seriously in error, especially when you extrapolate beyond the range of the sample data. (Duke) \n",
    "\n",
    "We'll look at this by plotting the observed versus predicted values to see if they have a linear relationship. We'll also look at the plot of the residuals vs. predicted values which should be disributed around a horizontal line with constant variance"
   ]
  },
  {
   "cell_type": "code",
   "execution_count": 245,
   "metadata": {},
   "outputs": [
    {
     "data": {
      "image/png": "[encoded data removed]",
      "text/plain": [
       "<Figure size 432x288 with 1 Axes>"
      ]
     },
     "metadata": {
      "needs_background": "light"
     },
     "output_type": "display_data"
    }
   ],
   "source": [
    "#total scatter correlation\n",
    "#this is the test of linearity\n",
    "m, b = np.polyfit(y_train.values[:,0], estimator.predict(x_train[selected_features]), 1)\n",
    "plt.plot(y_train, m * y_train + b, color=\"red\")\n",
    "plt.scatter(y_train, estimator.predict(x_train[selected_features]))\n",
    "plt.xlabel(\"Observed Goals\")\n",
    "plt.ylabel(\"Predicted Goals\")\n",
    "plt.title(\"Observed vs. Predicted Values\")\n",
    "plt.show()"
   ]
  },
  {
   "cell_type": "markdown",
   "metadata": {},
   "source": [
    "As you can see the observed versus have a decent positive linear relation so there is no violation of linearity but these graphs are deceiving so it is best to look at the residuals versus predicted values."
   ]
  },
  {
   "cell_type": "code",
   "execution_count": 246,
   "metadata": {},
   "outputs": [
    {
     "data": {
      "image/png": "[encoded data removed]",
      "text/plain": [
       "<Figure size 432x288 with 1 Axes>"
      ]
     },
     "metadata": {
      "needs_background": "light"
     },
     "output_type": "display_data"
    }
   ],
   "source": [
    "plt.scatter(estimator.predict(x_train[selected_features]),\n",
    "            y_train.values[:, 0]-estimator.predict(x_train[selected_features]))\n",
    "\n",
    "plt.xlabel(\"Predicted Goals\")\n",
    "plt.ylabel(\"Residuals (y - y_hat)\")\n",
    "plt.title(\"Predicted Values vs. Residuals\")\n",
    "plt.axhline(y=0, color=\"red\", lw=4)\n",
    "plt.show()"
   ]
  },
  {
   "cell_type": "markdown",
   "metadata": {},
   "source": [
    "There are some issues with the smaller values in dataset and not having negative residuals. This is most likely because of the fact you can't score negative goals and your total the next season will never go below zero. Another reason is that we are using linear regression on counting data. Linear Regression is supposed to be used on continuous data sets but sometimes you can fudge it a bit if your results are good enough."
   ]
  },
  {
   "cell_type": "markdown",
   "metadata": {},
   "source": [
    "# Violations of independence\n",
    "Here we check to see if any of our features are correlated with the residuals. Like with our predicted values the variance should be constant between each feature and the residual for that row. Again we will probably see issues at the lower end because of the non negative values of our data."
   ]
  },
  {
   "cell_type": "code",
   "execution_count": 247,
   "metadata": {},
   "outputs": [
    {
     "data": {
      "image/png": "[encoded data removed]",
      "text/plain": [
       "<Figure size 720x720 with 10 Axes>"
      ]
     },
     "metadata": {
      "needs_background": "light"
     },
     "output_type": "display_data"
    }
   ],
   "source": [
    "import math\n",
    "x_row = 0\n",
    "fig, axs = plt.subplots(3, 4, figsize=(10,10))\n",
    "for i, f in enumerate(selected_features):\n",
    "    test = [x[i] for x in estimator['preprocessor'].transform(x_train[selected_features])]\n",
    "    residuals = y_train.values[:, 0]-estimator.predict(x_train[selected_features])\n",
    "    axs[math.floor(x_row), i%4].scatter(x_train[f], residuals)\n",
    "\n",
    "    #axs[math.floor(x_row), i%4].set_xlabel(f\"{f}\")\n",
    "    if math.floor(x_row) in [0,1,2] and i%4 == 0:\n",
    "        axs[math.floor(x_row), i%4].set_ylabel(\"Residuals (y - y_hat)\")\n",
    "    axs[math.floor(x_row), i%4].set_title(f\"{f}\")\n",
    "    axs[math.floor(x_row), i%4].axhline(y=0, color=\"red\", lw=2)\n",
    "    x_row += .25\n",
    "    \n",
    "#removing empty plots\n",
    "fig.delaxes(axs[2][2])\n",
    "fig.delaxes(axs[2][3])"
   ]
  },
  {
   "cell_type": "markdown",
   "metadata": {},
   "source": [
    "As with our predicted vs residual graphs we see the same issues for values closer to zero and the absence of negative residuals. However, I think we can confirm the lack of correlation between the features and our residuals showing our features are staistically independent from our errors."
   ]
  },
  {
   "cell_type": "markdown",
   "metadata": {},
   "source": [
    "# Violations of homoscedasticity\n",
    "\n",
    "To check this we again look out our predicted vs. residuals plot we made above. And again it doesn't look like the variance of the residuals is a constant value across the predicted values. When your data isn't homoscedastic it's considered heteroscedastic meaning that the variability of the errors is different acros the vector of our predicted values.\n",
    "\n",
    "> \\[Hetereoscedasticity\\] make\\[s\\] it difficult to gauge the true standard deviation of the forecast errors, usually resulting in confidence intervals that are too wide or too narrow. In particular, if the variance of the errors is increasing over time, confidence intervals for out-of-sample predictions will tend to be unrealistically narrow. Heteroscedasticity may also have the effect of giving too much weight to a small subset of the data (namely the subset where the error variance was largest) when estimating coefficients. (Duke)\n",
    "\n",
    "While this might be a minor violation of this assumption, its more likely because we are using OLS regression on a counting data set instead of a continuous one. In the next sections of this series we will look at regressions that deal with these types of datasets, but for now the results of our regression is still pretty decent so we'll stick with it"
   ]
  },
  {
   "cell_type": "markdown",
   "metadata": {},
   "source": [
    "# Violations of normality\n",
    "\n",
    "We will look to make sure the errors, or residuals, from our regression are normally distributed. The best way to do this graphically is with a QQ plot with compares the residuals at a quantile level to the distribution we are assuming they came from in this case the normal distribution. Below you can see the average is close to 0 but not quite again which is a condition of normality in the distribution of our residuals."
   ]
  },
  {
   "cell_type": "code",
   "execution_count": 248,
   "metadata": {},
   "outputs": [
    {
     "name": "stdout",
     "output_type": "stream",
     "text": [
      "Average of the residuals: 0.0006283256370234607\n"
     ]
    }
   ],
   "source": [
    "resid_avg = np.average(residuals)\n",
    "print(f\"Average of the residuals: {resid_avg}\")"
   ]
  },
  {
   "cell_type": "code",
   "execution_count": 249,
   "metadata": {},
   "outputs": [
    {
     "data": {
      "image/png": "[encoded data removed]",
      "text/plain": [
       "<Figure size 360x360 with 1 Axes>"
      ]
     },
     "metadata": {
      "needs_background": "light"
     },
     "output_type": "display_data"
    }
   ],
   "source": [
    "import seaborn as sns\n",
    "sns.displot(data=residuals, kde=True, bins=20)\n",
    "plt.xlabel(\"Residual\")\n",
    "plt.title(\"Distribution of Residuals\")\n",
    "plt.show()"
   ]
  },
  {
   "cell_type": "markdown",
   "metadata": {},
   "source": [
    "The plot looks sort of like a normal distribution. We can investigate this further by looking at a QQ plot of the reisudals as described below:\n",
    "\n",
    "> A Q-Q plot is a scatterplot created by plotting two sets of quantiles against one another. If both sets of quantiles came from the same distribution, we should see the points forming a line that’s roughly straight. Here’s an example of a Normal Q-Q plot when both sets of quantiles truly come from Normal distributions. (UVA)"
   ]
  },
  {
   "cell_type": "code",
   "execution_count": 250,
   "metadata": {},
   "outputs": [
    {
     "data": {
      "image/png": "[encoded data removed]",
      "text/plain": [
       "<Figure size 432x288 with 1 Axes>"
      ]
     },
     "metadata": {
      "needs_background": "light"
     },
     "output_type": "display_data"
    }
   ],
   "source": [
    "#QQ plot or normal quantile plot\n",
    "import scipy\n",
    "scipy.stats.probplot(residuals, dist=\"norm\", plot=plt)\n",
    "plt.show()"
   ]
  },
  {
   "cell_type": "markdown",
   "metadata": {},
   "source": [
    "The S Shaped curve of our QQ plot is showing that our residuals are influenced by outliers in our residuals. Particularly this S shaped curve demonstrates heavy tail outliers in our residuals which can be seen in the histogram plot above. This means that the assumptions of Normality aren't quite met, but they are pretty close and probably aren't large enough to severely effect the predictions of the model (Love)."
   ]
  },
  {
   "cell_type": "markdown",
   "metadata": {},
   "source": [
    "# Beyond OLS Regression"
   ]
  },
  {
   "cell_type": "markdown",
   "metadata": {},
   "source": [
    "## Ridge Regression\n",
    "In ridge regression, the cost function is altered by adding a penalty equivalent to square of the magnitude of the coefficients. So ridge regression puts a constraint on the coefficients. The penalty term (alpha) constrains the coefficients such that if the coefficients take large values the optimization function is penalized. So, ridge regression shrinks the coefficients and it helps to reduce the model complexity and multi-collinearity (Bhattacharyya).\n",
    "\n",
    "The shrinking of the coefficients is also known by the term Regularization. \n",
    ">\"If you’ve heard of them before, you must know that they work by penalizing the magnitude of coefficients of features along with minimizing the error between predicted and actual observations. These are called ‘regularization’ techniques,\" (AARSHAY JAIN). \n",
    "\n",
    "In Ridge Regression it uses the L2 Norm regularization which is a penalty equivalent to square of the magnitude of coefficients. L2 Norm is also known as the [Euclidean Norm](https://en.m.wikipedia.org/wiki/Norm_(mathematics)#Euclidean_norm) which is basically the distance from the origin to the point of the vector.\n",
    "\n",
    "In sklearn alpha is used to determine the penalty applied to the features as it uses the `||y - Xw||^2_2 + alpha * ||w||^2_2` as the objective, or loss, function. So basically what this is saying is that the lower the alpha value the closer your Ridge Regression will be to a regular OLS regression. The higher the value of alpha the more the regression will penalize those features that have high colinearity and reduce their coeffcients closer to 0 without actually being 0. This helps with model complexity and overfitting of the model from colinearity. \n",
    "\n",
    "It is more common though to use a lambda parameter for the penalty in other programming languages such as R instead of the alpahs we will be passing to our Scitkit Learn models. I generally work with lambda values so I can communicate easier with other data scientists without confusion so I convert my lambda values into the equivalent alpha values so that if I make a regression using .5 as a lambda value then an R user or someone else can take my data and create the same model by using the .5 values themselves."
   ]
  },
  {
   "cell_type": "code",
   "execution_count": 251,
   "metadata": {},
   "outputs": [],
   "source": [
    "#Normally most people refer to the penalization variable as lambda when talking about Ridge Regressions in math\n",
    "#or R. However we need to convert those lambdas to our alpha for the sklearn. There is a link in the sources \n",
    "#that discus the math behind this in detail\n",
    "def lambda_to_alpha(lambda_value, samples):\n",
    "    return (lambda_value * samples) / 2.0"
   ]
  },
  {
   "cell_type": "markdown",
   "metadata": {},
   "source": [
    "# Cross Validation\n",
    "\n",
    "The next technique I'll be introducing is kFold Cross Validation and Grid Search. These are two common concepts in modeling where basically you just try every combination possible until you find one that does well. For larger models that take a lot of time to train this becomes a problem but for our models time to train won't be an issue.\n",
    "\n",
    "kFold Cross Validation (CV) is a technique where you create k training and testing sets at random from the data and train models on each training partition and then run them on the associated testing set. For each of the Elastic Net, Ridge, and Lasso models I'll be using cross validation with 10 folds. This means that it will repeat the test train split on the data 10 times and then average the score for the model to see how it performs. For these examples we'll be using the R^2 metric but you could use any metric you wanted that Scikit Learn allows such as MAE or MSE. If you aren't familiar with kFold Cross Validation you can read about it [here](https://machinelearningmastery.com/k-fold-cross-validation/). I highly suggest you are comfortable with this before moving on in the article as it will be a key component in how the models are built.\n",
    "\n",
    "These models will also do a Grid Search on the alpha parameters I'm passing to them. So the `BaggingReggressor` will bootstrap a smaple. Then the `RidgeCV` will run a 10 fold CV on that sample with each value of alpha I pass it. It will then save the model with the alpha value that has the best average R^2 score during cross validation. The `BaggingRegressor` will then repeat this 499 more times create a new Ridge regression. This will work the same for Lasso and Elastic Net just replace all instances of Ridge with either Lasso or Elastic Net. "
   ]
  },
  {
   "cell_type": "code",
   "execution_count": 252,
   "metadata": {},
   "outputs": [
    {
     "name": "stdout",
     "output_type": "stream",
     "text": [
      "Building model with features: ['g', 'a1', 'a2', 'toi', 'gp', 'isf', 'iff', 'g_pp', 'a1_pp', 'a2_pp', 'toi_pp', 'isf_pp', 'iff_pp', 'pos_D', 'pos_D/F', 'pos_F', 'toi_gp', 'sh_percent', 'sh_percent_pp', 'avg_goals_season', 'avg_sh_perc', 'sh_perc_diff', 'g_avg_past_2_seasons']\n",
      "Baseline linear model training set metrics:\n",
      "R^2 for test set: 0.5603\n",
      "Mean Squared Error for training set: 27.1019\n",
      "Root Mean Squared Error for training set: 5.2059\n",
      "Mean Absolute Error for training set: 3.5515\n",
      "\n"
     ]
    }
   ],
   "source": [
    "from sklearn.linear_model import RidgeCV\n",
    "lambdas_ridge = [0.01, 0.025, 0.05, .075, 0.1]\n",
    "alpha_ridge = [lambda_to_alpha(l, x_train.shape[0]) for l in lambdas_ridge]\n",
    "ridge_estimator = cv_model(x_train, y_train, RidgeCV(alphas=alpha_ridge, cv=10), 500, 10, \n",
    "                           features=feature_columns)"
   ]
  },
  {
   "cell_type": "markdown",
   "metadata": {},
   "source": [
    "As seen below, the Ridge Regression performs worse on the test data than the training data. This is to be expected and almost always will be the case with any model and will be the same with Lasso and Elastic Net. In fact if your model improves on the test set I would be highly wary and start investigating to make sure there was no data leakage between your training and test sets."
   ]
  },
  {
   "cell_type": "code",
   "execution_count": 253,
   "metadata": {},
   "outputs": [
    {
     "name": "stdout",
     "output_type": "stream",
     "text": [
      "Building Ridge Regression with features: ['g', 'a1', 'a2', 'toi', 'gp', 'isf', 'iff', 'g_pp', 'a1_pp', 'a2_pp', 'toi_pp', 'isf_pp', 'iff_pp', 'pos_D', 'pos_D/F', 'pos_F', 'toi_gp', 'sh_percent', 'sh_percent_pp', 'avg_goals_season', 'avg_sh_perc', 'sh_perc_diff', 'g_avg_past_2_seasons']\n",
      "Ridge Regression model Out of Sample metrics:\n",
      "R^2: 0.5377\n",
      "Mean Squared Error: 27.6164\n",
      "Root Mean Squared Error: 5.2551\n",
      "Average Mean Absolute Error for test set: 3.5215\n"
     ]
    }
   ],
   "source": [
    "oos_stats(x_test, y_test, feature_columns, ridge_estimator, 'Ridge Regression')"
   ]
  },
  {
   "cell_type": "markdown",
   "metadata": {},
   "source": [
    "## Lasso Regression\n",
    "\n",
    "We are going to repeat the steps above but this time use a Lasso regression instead of a Ridge Regression. With Lasso, the algorithm will reduce to 0 any features that are highly colinear. The Lasso Regression applies a penalty weight to the L1 norm(or taxicab/Manhattan distance) of the features which is the sum of the absolute value of the components of the feature vector and uses this formula as its optimization function `(1 / (2 * n_samples)) * ||y - Xw||^2_2 + alpha * ||w||_1`. Lasso uses the sum of the coefficients instead of the coefficients squared which is why you can get zero values for coefficients in Lasso (Bahattacharyya). \n"
   ]
  },
  {
   "cell_type": "code",
   "execution_count": 254,
   "metadata": {},
   "outputs": [
    {
     "name": "stdout",
     "output_type": "stream",
     "text": [
      "Building model with features: ['g', 'a1', 'a2', 'toi', 'gp', 'isf', 'iff', 'g_pp', 'a1_pp', 'a2_pp', 'toi_pp', 'isf_pp', 'iff_pp', 'pos_D', 'pos_D/F', 'pos_F', 'toi_gp', 'sh_percent', 'sh_percent_pp', 'avg_goals_season', 'avg_sh_perc', 'sh_perc_diff', 'g_avg_past_2_seasons']\n",
      "Baseline linear model training set metrics:\n",
      "R^2 for test set: 0.5402\n",
      "Mean Squared Error for training set: 28.3422\n",
      "Root Mean Squared Error for training set: 5.3237\n",
      "Mean Absolute Error for training set: 3.6547\n",
      "\n"
     ]
    }
   ],
   "source": [
    "#the LassoCV takes a much smaller values of lambda to get a good result. \n",
    "#Tis is mainly due to the different cost functions for the regression. \n",
    "#Lasso uses L1 normalization while Ridge uses L2. \n",
    "from sklearn.linear_model import LassoCV\n",
    "lasso_lambdas = [.01, .001, .002, .003, .0001]\n",
    "lasso_alphas = [lambda_to_alpha(l, x_train.shape[0]) for l in lasso_lambdas]\n",
    "lasso_estimator = cv_model(x_train, y_train, LassoCV(alphas=lasso_alphas, max_iter=1000), \n",
    "                           500, 10, features=feature_columns)"
   ]
  },
  {
   "cell_type": "code",
   "execution_count": 255,
   "metadata": {},
   "outputs": [
    {
     "name": "stdout",
     "output_type": "stream",
     "text": [
      "Building Lasso Regression with features: ['g', 'a1', 'a2', 'toi', 'gp', 'isf', 'iff', 'g_pp', 'a1_pp', 'a2_pp', 'toi_pp', 'isf_pp', 'iff_pp', 'pos_D', 'pos_D/F', 'pos_F', 'toi_gp', 'sh_percent', 'sh_percent_pp', 'avg_goals_season', 'avg_sh_perc', 'sh_perc_diff', 'g_avg_past_2_seasons']\n",
      "Lasso Regression model Out of Sample metrics:\n",
      "R^2: 0.5282\n",
      "Mean Squared Error: 28.1826\n",
      "Root Mean Squared Error: 5.3087\n",
      "Average Mean Absolute Error for test set: 3.5789\n"
     ]
    }
   ],
   "source": [
    "oos_stats(x_test, y_test, feature_columns, lasso_estimator, 'Lasso Regression')"
   ]
  },
  {
   "cell_type": "markdown",
   "metadata": {},
   "source": [
    "# ElasticNet Regression\n",
    "\n",
    "ElasticNet Regression is a combination of Ridge and Lasso Regressions. It combines the cost functions of both Lasso and Ridge Regression(L1 and L2 Regularization respectively) to try to get the best of both worlds (Oleszak). In most literature this is called an alpha parameter with alpha=0 being a pure ridge regression and alpha=1 being Lasso. Of course Scikit Learn uses alpha as its lambda (confusing I know but I find it better to refer to them as everyone else does instead of what Scikit does to avoid confusion).\n",
    "\n",
    "So the alpha parameter is called the `l1_ratio` in the sklearn ElasticNet model. Its a value from 0 to 1 with the same setup as the alpha. It also takes an `alphas` parameter like the Ridge/Lasso models which is the penalization hyperparameter as above. With `ElasticNet` there are now two hyperparameters to tune: `l1_ratio` (alpha) and `alphas` (lambda). Im using a combination of lambdas from the previous two models and a standard alpha selection found in the Scikit Learn docs on ElasticNetCV that states that you should have more values closer to 1 than 0."
   ]
  },
  {
   "cell_type": "code",
   "execution_count": 256,
   "metadata": {},
   "outputs": [
    {
     "name": "stdout",
     "output_type": "stream",
     "text": [
      "Building model with features: ['g', 'a1', 'a2', 'toi', 'gp', 'isf', 'iff', 'g_pp', 'a1_pp', 'a2_pp', 'toi_pp', 'isf_pp', 'iff_pp', 'pos_D', 'pos_D/F', 'pos_F', 'toi_gp', 'sh_percent', 'sh_percent_pp', 'avg_goals_season', 'avg_sh_perc', 'sh_perc_diff', 'g_avg_past_2_seasons']\n",
      "Baseline linear model training set metrics:\n",
      "R^2 for test set: 0.5449\n",
      "Mean Squared Error for training set: 28.0503\n",
      "Root Mean Squared Error for training set: 5.2963\n",
      "Mean Absolute Error for training set: 3.6127\n",
      "\n"
     ]
    }
   ],
   "source": [
    "from sklearn.linear_model import ElasticNetCV\n",
    "l1_ratios = [.1, .5, .7, .9, .95, .99, 1]\n",
    "elastic_alphas = lasso_alphas + alpha_ridge\n",
    "elastic_estimator = cv_model(x_train, y_train, ElasticNetCV(l1_ratio=l1_ratios, alphas=elastic_alphas), \n",
    "                             500, 10, features=feature_columns)"
   ]
  },
  {
   "cell_type": "code",
   "execution_count": 257,
   "metadata": {},
   "outputs": [
    {
     "name": "stdout",
     "output_type": "stream",
     "text": [
      "Building ElasticNet Regression with features: ['g', 'a1', 'a2', 'toi', 'gp', 'isf', 'iff', 'g_pp', 'a1_pp', 'a2_pp', 'toi_pp', 'isf_pp', 'iff_pp', 'pos_D', 'pos_D/F', 'pos_F', 'toi_gp', 'sh_percent', 'sh_percent_pp', 'avg_goals_season', 'avg_sh_perc', 'sh_perc_diff', 'g_avg_past_2_seasons']\n",
      "ElasticNet Regression model Out of Sample metrics:\n",
      "R^2: 0.5326\n",
      "Mean Squared Error: 27.9245\n",
      "Root Mean Squared Error: 5.2844\n",
      "Average Mean Absolute Error for test set: 3.5387\n"
     ]
    }
   ],
   "source": [
    "oos_stats(x_test, y_test, feature_columns, elastic_estimator, 'ElasticNet Regression')"
   ]
  },
  {
   "cell_type": "markdown",
   "metadata": {},
   "source": [
    "# Comparing the Four Models"
   ]
  },
  {
   "cell_type": "code",
   "execution_count": 258,
   "metadata": {},
   "outputs": [
    {
     "name": "stdout",
     "output_type": "stream",
     "text": [
      "Comparing R^2 of Models on Test Set:\n",
      "Elastic Net:       0.5326\n",
      "Lasso:             0.5282\n",
      "Ridge:             0.5377\n",
      "OLS:               0.5364\n",
      "\n",
      "Comparing MAE of Models on Test Set:\n",
      "Elastic Net:       3.5387\n",
      "Lasso:             3.5789\n",
      "Ridge:             3.5215\n",
      "OLS:               3.5089\n",
      "\n"
     ]
    }
   ],
   "source": [
    "\n",
    "print(f\"Comparing R^2 of Models on Test Set:\")\n",
    "print((f'{\"Elastic Net:\":<15}{round(elastic_estimator.score(x_test, y_test), 4):>10}\\n'\n",
    "       f'{\"Lasso:\":<15}{round(lasso_estimator.score(x_test, y_test), 4):>10}\\n'\n",
    "       f'{\"Ridge:\":<15}{round(ridge_estimator.score(x_test, y_test), 4):>10}\\n'\n",
    "       f'{\"OLS:\":<15}{round(estimator.score(x_test[selected_features], y_test), 4):>10}\\n'\n",
    "       ))\n",
    "print(\"Comparing MAE of Models on Test Set:\")\n",
    "print((f'{\"Elastic Net:\":<15}{round(mean_absolute_error(elastic_estimator.predict(x_test), y_test), 4): >10}\\n'\n",
    "       f'{\"Lasso:\":<15}{round(mean_absolute_error(lasso_estimator.predict(x_test), y_test), 4):>10}\\n'\n",
    "       f'{\"Ridge:\":<15}{round(mean_absolute_error(ridge_estimator.predict(x_test), y_test), 4):>10}\\n'\n",
    "       f'{\"OLS:\":<15}{\"{:.4f}\".format(round(mean_absolute_error(estimator.predict(x_test[selected_features]), y_test), 4)):>10}\\n'\n",
    "       ))"
   ]
  },
  {
   "cell_type": "markdown",
   "metadata": {},
   "source": [
    "The main take away from this is that by using Ridge, Lasso, or ElasticNet we can skip the feature selection steps of our OLS model and just let the model select our features for us. For something with as small of features as this either choice isn't going to be that much time, but when you have hundreds of features to choose from then using one of these three regularized regressions will greatly speed up things. You an also use something like Lasso that zeros out features to help decide what features you may want to pass to another non linear regression model to help improve its performances as well."
   ]
  },
  {
   "cell_type": "markdown",
   "metadata": {},
   "source": [
    "# Improving the Model\n",
    "\n",
    "So it looks like Ridge Regression is our best performing model overall although Elastic Net scores close as well. Overall are these scores are all right. They aren't great but they aren't awful, generally I'd like a R squared of above .70 if possible although that varies with what your are predicting too. Sometimes an R^2 of .6 is very good given the dificulty of what you are predicting. As a good baseline model these metrics are pretty good for the minimal amount of work put into acutally building the model itself. So now that there is baseline its time work on improving the model some.\n",
    "\n",
    "One thing that could help improve the model is to split our power play features and even strength features into two seperate models. Right now we are using power play stats along with even strength stats from the previous season to predict the total goals for a player. Sometimes it is better to have multiple simpler models instead of one more complex model. This is sort of the idea behind Boosting in machine learning as well which is beyond the scope of this article but keep it in mind as I'll probably touch on it in future entries. On to the next step!\n"
   ]
  },
  {
   "cell_type": "markdown",
   "metadata": {},
   "source": [
    "# Two Seperate Models"
   ]
  },
  {
   "cell_type": "code",
   "execution_count": 259,
   "metadata": {},
   "outputs": [],
   "source": [
    "ev_goals = next_df[['g', 'a1', 'a2', 'toi', 'gp', 'isf', \n",
    "                    'iff', 'g_next', 'pos_D', 'pos_D/F', 'pos_F', 'toi_gp']]\n",
    "ev_features = ['g', 'a1', 'a2', 'toi', 'gp', 'isf', 'iff', \n",
    "               'pos_D', 'pos_D/F', 'pos_F', 'toi_gp']\n",
    "ev_target = ['g_next']\n",
    "pp_goals = next_df[['g_pp', 'a1_pp', 'a2_pp', 'toi_pp',\n",
    "                    'isf_pp', 'iff_pp', 'pos_D', 'pos_D/F', 'pos_F', 'g_pp_next']]\n",
    "pp_features = ['g_pp', 'a1_pp', 'a2_pp', 'toi_pp',\n",
    "                     'isf_pp', 'iff_pp', 'pos_D', 'pos_D/F', 'pos_F']\n",
    "pp_target = ['g_pp_next']\n",
    "\n",
    "x_ev_train, x_ev_test, y_ev_train, y_ev_test = train_test_split(next_df[ev_features], \n",
    "                                                                next_df[ev_target], \n",
    "                                                                test_size=0.2, random_state=400)\n",
    "x_pp_train, x_pp_test, y_pp_train, y_pp_test = train_test_split(next_df[pp_features], \n",
    "                                                                next_df[pp_target], \n",
    "                                                                test_size=0.2, random_state=600)"
   ]
  },
  {
   "cell_type": "markdown",
   "metadata": {},
   "source": [
    "## Ridge Even Strength and Power Play Goals models"
   ]
  },
  {
   "cell_type": "code",
   "execution_count": 260,
   "metadata": {},
   "outputs": [
    {
     "name": "stdout",
     "output_type": "stream",
     "text": [
      "Building model with features: ['g', 'a1', 'a2', 'toi', 'gp', 'isf', 'iff', 'pos_D', 'pos_D/F', 'pos_F', 'toi_gp']\n",
      "Baseline linear model training set metrics:\n",
      "R^2 for test set: 0.4838\n",
      "Mean Squared Error for training set: 16.6624\n",
      "Root Mean Squared Error for training set: 4.082\n",
      "Mean Absolute Error for training set: 2.8648\n",
      "\n"
     ]
    }
   ],
   "source": [
    "lambdas_ridge = [0.01, 0.025, 0.05, .075, 0.1]\n",
    "alpha_ridge = [lambda_to_alpha(l, x_train.shape[0]) for l in lambdas_ridge]\n",
    "ridge_ev_estimator = cv_model(x_ev_train, y_ev_train, RidgeCV(alphas=alpha_ridge, cv=10), 500, 10, \n",
    "                           features=ev_features)"
   ]
  },
  {
   "cell_type": "code",
   "execution_count": 261,
   "metadata": {},
   "outputs": [
    {
     "name": "stdout",
     "output_type": "stream",
     "text": [
      "Building model with features: ['g_pp', 'a1_pp', 'a2_pp', 'toi_pp', 'isf_pp', 'iff_pp', 'pos_D', 'pos_D/F', 'pos_F']\n",
      "Baseline linear model training set metrics:\n",
      "R^2 for test set: 0.465\n",
      "Mean Squared Error for training set: 4.0544\n",
      "Root Mean Squared Error for training set: 2.0136\n",
      "Mean Absolute Error for training set: 1.2256\n",
      "\n"
     ]
    }
   ],
   "source": [
    "lambdas_ridge = [0.01, 0.025, 0.05, .075, 0.1]\n",
    "alpha_ridge = [lambda_to_alpha(l, x_train.shape[0]) for l in lambdas_ridge]\n",
    "ridge_pp_estimator = cv_model(x_pp_train, y_pp_train, RidgeCV(alphas=alpha_ridge, cv=10), 500, 10, \n",
    "                           features=pp_features)"
   ]
  },
  {
   "cell_type": "code",
   "execution_count": 262,
   "metadata": {},
   "outputs": [
    {
     "name": "stdout",
     "output_type": "stream",
     "text": [
      "Building EV Ridge Regression with features: ['g', 'a1', 'a2', 'toi', 'gp', 'isf', 'iff', 'pos_D', 'pos_D/F', 'pos_F', 'toi_gp']\n",
      "EV Ridge Regression model Out of Sample metrics:\n",
      "R^2: 0.5112\n",
      "Mean Squared Error: 15.384\n",
      "Root Mean Squared Error: 3.9222\n",
      "Average Mean Absolute Error for test set: 2.7633\n"
     ]
    }
   ],
   "source": [
    "oos_stats(x_ev_test, y_ev_test, ev_features, ridge_ev_estimator, 'EV Ridge Regression')"
   ]
  },
  {
   "cell_type": "code",
   "execution_count": 263,
   "metadata": {},
   "outputs": [
    {
     "name": "stdout",
     "output_type": "stream",
     "text": [
      "Building PP Ridge Regression with features: ['g_pp', 'a1_pp', 'a2_pp', 'toi_pp', 'isf_pp', 'iff_pp', 'pos_D', 'pos_D/F', 'pos_F']\n",
      "PP Ridge Regression model Out of Sample metrics:\n",
      "R^2: 0.4441\n",
      "Mean Squared Error: 4.0158\n",
      "Root Mean Squared Error: 2.0039\n",
      "Average Mean Absolute Error for test set: 1.2586\n"
     ]
    }
   ],
   "source": [
    "oos_stats(x_pp_test, y_pp_test, pp_features, ridge_pp_estimator, 'PP Ridge Regression')"
   ]
  },
  {
   "cell_type": "code",
   "execution_count": 264,
   "metadata": {},
   "outputs": [
    {
     "name": "stdout",
     "output_type": "stream",
     "text": [
      "Building Combined PP/EV goal regressions\n",
      "Combined PP/EV model Out of Sample metrics:\n",
      "R^2: 0.5305\n",
      "Mean Squared Error: 28.0508\n",
      "Root Mean Squared Error: 5.2963\n",
      "Mean Absolute Error for test set: 3.571\n"
     ]
    }
   ],
   "source": [
    "ev_goals = ridge_ev_estimator.predict(x_test[ev_features])\n",
    "pp_goals = ridge_pp_estimator.predict(x_test[pp_features])\n",
    "predicted_goals = ev_goals + pp_goals\n",
    "mse = mean_squared_error(y_test, predicted_goals)\n",
    "rmse = math.sqrt(mean_squared_error(y_test, predicted_goals))\n",
    "mae = mean_absolute_error(y_test, predicted_goals)\n",
    "from sklearn.metrics import r2_score\n",
    "r_sq = r2_score(y_test, predicted_goals)\n",
    "print(f\"Building Combined PP/EV goal regressions\")\n",
    "print((f\"Combined PP/EV model Out of Sample metrics:\\n\"\n",
    "       f\"R^2: {round(r_sq, 4)}\\n\"\n",
    "       f\"Mean Squared Error: {round(mse, 4)}\\n\"\n",
    "       f\"Root Mean Squared Error: {round(rmse, 4)}\\n\"\n",
    "       f\"Mean Absolute Error for test set: {round(mae, 4)}\"\n",
    "       ))"
   ]
  },
  {
   "cell_type": "markdown",
   "metadata": {},
   "source": [
    "## Elastic Net Even Strength and Power Play Goals models"
   ]
  },
  {
   "cell_type": "code",
   "execution_count": 265,
   "metadata": {},
   "outputs": [
    {
     "name": "stdout",
     "output_type": "stream",
     "text": [
      "Building model with features: ['g', 'a1', 'a2', 'toi', 'gp', 'isf', 'iff', 'pos_D', 'pos_D/F', 'pos_F', 'toi_gp']\n",
      "Baseline linear model training set metrics:\n",
      "R^2 for test set: 0.4624\n",
      "Mean Squared Error for training set: 17.3513\n",
      "Root Mean Squared Error for training set: 4.1655\n",
      "Mean Absolute Error for training set: 2.9574\n",
      "\n",
      "Building model with features: ['g_pp', 'a1_pp', 'a2_pp', 'toi_pp', 'isf_pp', 'iff_pp', 'pos_D', 'pos_D/F', 'pos_F']\n",
      "Baseline linear model training set metrics:\n",
      "R^2 for test set: 0.4556\n",
      "Mean Squared Error for training set: 4.1251\n",
      "Root Mean Squared Error for training set: 2.031\n",
      "Mean Absolute Error for training set: 1.2131\n",
      "\n"
     ]
    }
   ],
   "source": [
    "l1_ratios = [.1, .5, .7, .9, .95, .99, 1]\n",
    "elastic_alphas = lasso_alphas + alpha_ridge\n",
    "elastic_ev_estimator = cv_model(x_ev_train, y_ev_train, ElasticNetCV(l1_ratio=l1_ratios, alphas=elastic_alphas), \n",
    "                             500, 10, features=ev_features)\n",
    "elastic_pp_estimator = cv_model(x_pp_train, y_pp_train, ElasticNetCV(l1_ratio=l1_ratios, alphas=elastic_alphas), \n",
    "                             500, 10, features=pp_features)"
   ]
  },
  {
   "cell_type": "code",
   "execution_count": 266,
   "metadata": {},
   "outputs": [
    {
     "name": "stdout",
     "output_type": "stream",
     "text": [
      "Combined Elastic PP/EV model Out of Sample metrics:\n",
      "R^2: 0.5087\n",
      "Mean Squared Error: 29.3515\n",
      "Root Mean Squared Error: 5.4177\n",
      "Mean Absolute Error for test set: 3.7008\n"
     ]
    }
   ],
   "source": [
    "ev_goals = elastic_ev_estimator.predict(x_test[ev_features])\n",
    "pp_goals = elastic_pp_estimator.predict(x_test[pp_features])\n",
    "predicted_goals = ev_goals + pp_goals\n",
    "mse = mean_squared_error(y_test, predicted_goals)\n",
    "rmse = math.sqrt(mean_squared_error(y_test, predicted_goals))\n",
    "mae = mean_absolute_error(y_test, predicted_goals)\n",
    "from sklearn.metrics import r2_score\n",
    "r_sq = r2_score(y_test, predicted_goals)\n",
    "print((f\"Combined Elastic PP/EV model Out of Sample metrics:\\n\"\n",
    "       f\"R^2: {round(r_sq, 4)}\\n\"\n",
    "       f\"Mean Squared Error: {round(mse, 4)}\\n\"\n",
    "       f\"Root Mean Squared Error: {round(rmse, 4)}\\n\"\n",
    "       f\"Mean Absolute Error for test set: {round(mae, 4)}\"\n",
    "       ))"
   ]
  },
  {
   "cell_type": "markdown",
   "metadata": {},
   "source": [
    "## Lasso Even Strength and Power Play Goals models"
   ]
  },
  {
   "cell_type": "code",
   "execution_count": 267,
   "metadata": {},
   "outputs": [
    {
     "name": "stdout",
     "output_type": "stream",
     "text": [
      "Building model with features: ['g', 'a1', 'a2', 'toi', 'gp', 'isf', 'iff', 'pos_D', 'pos_D/F', 'pos_F', 'toi_gp']\n",
      "Baseline linear model training set metrics:\n",
      "R^2 for test set: 0.4593\n",
      "Mean Squared Error for training set: 17.4516\n",
      "Root Mean Squared Error for training set: 4.1775\n",
      "Mean Absolute Error for training set: 2.9714\n",
      "\n",
      "Building model with features: ['g_pp', 'a1_pp', 'a2_pp', 'toi_pp', 'isf_pp', 'iff_pp', 'pos_D', 'pos_D/F', 'pos_F']\n",
      "Baseline linear model training set metrics:\n",
      "R^2 for test set: 0.4204\n",
      "Mean Squared Error for training set: 4.3921\n",
      "Root Mean Squared Error for training set: 2.0957\n",
      "Mean Absolute Error for training set: 1.3139\n",
      "\n"
     ]
    }
   ],
   "source": [
    "lasso_lambdas = [.01, .001, .002, .003, .0001]\n",
    "lasso_alphas = [lambda_to_alpha(l, x_train.shape[0]) for l in lasso_lambdas]\n",
    "lasso_ev_estimator = cv_model(x_ev_train, y_ev_train, LassoCV(alphas=lasso_alphas, max_iter=1000), \n",
    "                           500, 10, features=ev_features)\n",
    "lasso_pp_estimator = cv_model(x_pp_train, y_pp_train, LassoCV(alphas=lasso_alphas, max_iter=1000), \n",
    "                           500, 10, features=pp_features)"
   ]
  },
  {
   "cell_type": "code",
   "execution_count": 268,
   "metadata": {},
   "outputs": [
    {
     "name": "stdout",
     "output_type": "stream",
     "text": [
      "Combined Lasso PP/EV model Out of Sample metrics:\n",
      "R^2: 0.4982\n",
      "Mean Squared Error: 29.9753\n",
      "Root Mean Squared Error: 5.475\n",
      "Mean Absolute Error for test set: 3.7992\n"
     ]
    }
   ],
   "source": [
    "ev_goals = lasso_ev_estimator.predict(x_test[ev_features])\n",
    "pp_goals = lasso_pp_estimator.predict(x_test[pp_features])\n",
    "predicted_goals = ev_goals + pp_goals\n",
    "mse = mean_squared_error(y_test, predicted_goals)\n",
    "rmse = math.sqrt(mean_squared_error(y_test, predicted_goals))\n",
    "mae = mean_absolute_error(y_test, predicted_goals)\n",
    "from sklearn.metrics import r2_score\n",
    "r_sq = r2_score(y_test, predicted_goals)\n",
    "print((f\"Combined Lasso PP/EV model Out of Sample metrics:\\n\"\n",
    "       f\"R^2: {round(r_sq, 4)}\\n\"\n",
    "       f\"Mean Squared Error: {round(mse, 4)}\\n\"\n",
    "       f\"Root Mean Squared Error: {round(rmse, 4)}\\n\"\n",
    "       f\"Mean Absolute Error for test set: {round(mae, 4)}\"\n",
    "       ))"
   ]
  },
  {
   "cell_type": "markdown",
   "metadata": {},
   "source": [
    "Comparing R^2 of Models on Test Set:\n",
    "Elastic Net:       0.6078\n",
    "Lasso:             0.5976\n",
    "Ridge:             0.6137\n",
    "OLS:               0.6032\n",
    "\n",
    "Comparing MAE of Models on Test Set:\n",
    "Elastic Net:       3.6324\n",
    "Lasso:             3.6794\n",
    "Ridge:             3.6011\n",
    "OLS:               3.6390"
   ]
  },
  {
   "cell_type": "markdown",
   "metadata": {},
   "source": [
    "From the test metrics above splitting out regular season goals and power play goals into their own seperate models doesnt seem to improve our model performance at all. It's possible we could have reached the limits of what regression can do in this case, but either way we have a good method now of building models and testing them so we can quickly determine how our changes are able to improve the models. Now lets look and see what our regular Ridge Regression predicts for the top ten goals scorers for next season"
   ]
  },
  {
   "cell_type": "code",
   "execution_count": 309,
   "metadata": {},
   "outputs": [
    {
     "data": {
      "text/html": [
       "<div>\n",
       "<style scoped>\n",
       "    .dataframe tbody tr th:only-of-type {\n",
       "        vertical-align: middle;\n",
       "    }\n",
       "\n",
       "    .dataframe tbody tr th {\n",
       "        vertical-align: top;\n",
       "    }\n",
       "\n",
       "    .dataframe thead th {\n",
       "        text-align: right;\n",
       "    }\n",
       "</style>\n",
       "<table border=\"1\" class=\"dataframe\">\n",
       "  <thead>\n",
       "    <tr style=\"text-align: right;\">\n",
       "      <th></th>\n",
       "      <th>player</th>\n",
       "      <th>predicted_goals</th>\n",
       "      <th>rank</th>\n",
       "    </tr>\n",
       "  </thead>\n",
       "  <tbody>\n",
       "    <tr>\n",
       "      <th>0</th>\n",
       "      <td>Auston Matthews</td>\n",
       "      <td>29.0</td>\n",
       "      <td>1</td>\n",
       "    </tr>\n",
       "    <tr>\n",
       "      <th>1</th>\n",
       "      <td>David Pastrnak</td>\n",
       "      <td>28.0</td>\n",
       "      <td>2</td>\n",
       "    </tr>\n",
       "    <tr>\n",
       "      <th>2</th>\n",
       "      <td>Alex Ovechkin</td>\n",
       "      <td>26.0</td>\n",
       "      <td>3</td>\n",
       "    </tr>\n",
       "    <tr>\n",
       "      <th>3</th>\n",
       "      <td>Leon Draisaitl</td>\n",
       "      <td>25.0</td>\n",
       "      <td>4</td>\n",
       "    </tr>\n",
       "    <tr>\n",
       "      <th>4</th>\n",
       "      <td>Nathan MacKinnon</td>\n",
       "      <td>25.0</td>\n",
       "      <td>5</td>\n",
       "    </tr>\n",
       "    <tr>\n",
       "      <th>5</th>\n",
       "      <td>Elias Pettersson</td>\n",
       "      <td>23.0</td>\n",
       "      <td>6</td>\n",
       "    </tr>\n",
       "    <tr>\n",
       "      <th>6</th>\n",
       "      <td>Artemi Panarin</td>\n",
       "      <td>23.0</td>\n",
       "      <td>7</td>\n",
       "    </tr>\n",
       "    <tr>\n",
       "      <th>7</th>\n",
       "      <td>Brady Tkachuk</td>\n",
       "      <td>22.0</td>\n",
       "      <td>8</td>\n",
       "    </tr>\n",
       "    <tr>\n",
       "      <th>8</th>\n",
       "      <td>Connor McDavid</td>\n",
       "      <td>22.0</td>\n",
       "      <td>9</td>\n",
       "    </tr>\n",
       "    <tr>\n",
       "      <th>9</th>\n",
       "      <td>Dominik Kubalik</td>\n",
       "      <td>22.0</td>\n",
       "      <td>10</td>\n",
       "    </tr>\n",
       "    <tr>\n",
       "      <th>10</th>\n",
       "      <td>Max Pacioretty</td>\n",
       "      <td>22.0</td>\n",
       "      <td>11</td>\n",
       "    </tr>\n",
       "    <tr>\n",
       "      <th>11</th>\n",
       "      <td>Kyle Connor</td>\n",
       "      <td>22.0</td>\n",
       "      <td>12</td>\n",
       "    </tr>\n",
       "    <tr>\n",
       "      <th>12</th>\n",
       "      <td>Patrick Kane</td>\n",
       "      <td>21.0</td>\n",
       "      <td>13</td>\n",
       "    </tr>\n",
       "    <tr>\n",
       "      <th>13</th>\n",
       "      <td>Nikita Kucherov</td>\n",
       "      <td>21.0</td>\n",
       "      <td>14</td>\n",
       "    </tr>\n",
       "    <tr>\n",
       "      <th>14</th>\n",
       "      <td>Mika Zibanejad</td>\n",
       "      <td>20.0</td>\n",
       "      <td>15</td>\n",
       "    </tr>\n",
       "    <tr>\n",
       "      <th>15</th>\n",
       "      <td>Jack Eichel</td>\n",
       "      <td>20.0</td>\n",
       "      <td>16</td>\n",
       "    </tr>\n",
       "    <tr>\n",
       "      <th>16</th>\n",
       "      <td>Sebastian Aho</td>\n",
       "      <td>20.0</td>\n",
       "      <td>17</td>\n",
       "    </tr>\n",
       "    <tr>\n",
       "      <th>17</th>\n",
       "      <td>Andrei Svechnikov</td>\n",
       "      <td>20.0</td>\n",
       "      <td>18</td>\n",
       "    </tr>\n",
       "    <tr>\n",
       "      <th>18</th>\n",
       "      <td>Patrik Laine</td>\n",
       "      <td>19.0</td>\n",
       "      <td>19</td>\n",
       "    </tr>\n",
       "    <tr>\n",
       "      <th>19</th>\n",
       "      <td>Brayden Point</td>\n",
       "      <td>19.0</td>\n",
       "      <td>20</td>\n",
       "    </tr>\n",
       "  </tbody>\n",
       "</table>\n",
       "</div>"
      ],
      "text/plain": [
       "               player  predicted_goals  rank\n",
       "0     Auston Matthews             29.0     1\n",
       "1      David Pastrnak             28.0     2\n",
       "2       Alex Ovechkin             26.0     3\n",
       "3      Leon Draisaitl             25.0     4\n",
       "4    Nathan MacKinnon             25.0     5\n",
       "5    Elias Pettersson             23.0     6\n",
       "6      Artemi Panarin             23.0     7\n",
       "7       Brady Tkachuk             22.0     8\n",
       "8      Connor McDavid             22.0     9\n",
       "9     Dominik Kubalik             22.0    10\n",
       "10     Max Pacioretty             22.0    11\n",
       "11        Kyle Connor             22.0    12\n",
       "12       Patrick Kane             21.0    13\n",
       "13    Nikita Kucherov             21.0    14\n",
       "14     Mika Zibanejad             20.0    15\n",
       "15        Jack Eichel             20.0    16\n",
       "16      Sebastian Aho             20.0    17\n",
       "17  Andrei Svechnikov             20.0    18\n",
       "18       Patrik Laine             19.0    19\n",
       "19      Brayden Point             19.0    20"
      ]
     },
     "execution_count": 309,
     "metadata": {},
     "output_type": "execute_result"
    }
   ],
   "source": [
    "next_df['predicted_goals'] = ridge_estimator.predict(next_df[feature_columns])\n",
    "last_season_df = next_df[next_df.season == 20192020]\n",
    "last_season_df = last_season_df.sort_values('predicted_goals', ascending=False).reset_index(drop=True)\n",
    "top_20 = last_season_df[['player', 'predicted_goals']].head(20)\n",
    "top_20['rank'] = top_20.index + 1\n",
    "top_20['predicted_goals'] = round(top_20['predicted_goals'], 0)\n",
    "top_20"
   ]
  },
  {
   "cell_type": "markdown",
   "metadata": {},
   "source": [
    "As we can see the names look about right however the totals are heavily depressed this is most likely due to the regression weighting the fact that most players don't score a lot of goals so to improve scoring it artifically depresses values to optimize it errors. As mentioned above the `BaggingRegressor` allows us to create a distribution of goal values as seen below."
   ]
  },
  {
   "cell_type": "code",
   "execution_count": 307,
   "metadata": {},
   "outputs": [],
   "source": [
    "results = []\n",
    "matthews = last_season_df.loc[11092, feature_columns].values.reshape(1, -1)\n",
    "for model in ridge_estimator['classifier'].estimators_:\n",
    "    results.append(model.predict(ridge_estimator['preprocessor'].transform(matthews)))"
   ]
  },
  {
   "cell_type": "code",
   "execution_count": 308,
   "metadata": {},
   "outputs": [
    {
     "data": {
      "image/png": "[encoded data removed]",
      "text/plain": [
       "<Figure size 432x288 with 1 Axes>"
      ]
     },
     "metadata": {
      "needs_background": "light"
     },
     "output_type": "display_data"
    }
   ],
   "source": [
    "cleaned_results = [x[0] for x in results]\n",
    "plt.hist(cleaned_results, bins=30)\n",
    "plt.title('Auston Matthews 20202021 Goal Distribution')\n",
    "plt.xlabel('Goals')\n",
    "plt.ylabel('Count')\n",
    "plt.show()"
   ]
  },
  {
   "cell_type": "markdown",
   "metadata": {},
   "source": [
    "# Sources\n",
    "Ridge and Lasso Regression: L1 and L2 Regularization by Saptashwa Bhattacharyya\n",
    "https://towardsdatascience.com/ridge-and-lasso-regression-a-complete-guide-with-python-scikit-learn-e20e34bcbf0b\n",
    "\n",
    "Ridge Regression Cost Function by Aleksy Bilogur \n",
    "https://www.kaggle.com/residentmario/ridge-regression-cost-function\n",
    "\n",
    "Alpha parameter in ridge regression is high Cross Validated\n",
    "https://stats.stackexchange.com/questions/166950/alpha-parameter-in-ridge-regression-is-high\n",
    "\n",
    "A Complete Tutorial on Ridge and Lasso Regression in Python by AARSHAY JAIN\n",
    "https://www.analyticsvidhya.com/blog/2016/01/ridge-lasso-regression-python-complete-tutorial/\n",
    "\n",
    "What are the differences between ridge regresssion using R's Glmnet and Python's sklearn Cross Validated\n",
    "https://stats.stackexchange.com/questions/160096/what-are-the-differences-between-ridge-regression-using-rs-glmnet-and-pythons\n",
    "\n",
    "Scikit Learn Ridge Regression\n",
    "https://scikit-learn.org/stable/modules/generated/sklearn.linear_model.Ridge.html\n",
    "\n",
    "A Gentle Introduction to the Bootstrap Method by Jason Brownlee\n",
    "https://machinelearningmastery.com/a-gentle-introduction-to-the-bootstrap-method/\n",
    "\n",
    "Regularization: Ridge, Lasso and Elastic Net by Michał Oleszak\n",
    "https://www.datacamp.com/community/tutorials/tutorial-ridge-lasso-elastic-net\n",
    "\n",
    "Intuitions on L1 and L2 Regularisation by Raimi Karim\n",
    "https://towardsdatascience.com/intuitions-on-l1-and-l2-regularisation-235f2db4c261\n",
    "\n",
    "Hastie, T., Tibshirani, R.,, Friedman, J. (2001). The Elements of Statistical Learning. New York, NY, USA: Springer New York Inc.. \n",
    "\n",
    "Norm (Mathematics) \n",
    "https://en.wikipedia.org/wiki/Norm_(mathematics)#Absolute-value_norm\n",
    "\n",
    "Repeated k-Fold Cross-Validation for Model Evaluation in Python by Jason Brownlee\n",
    "https://machinelearningmastery.com/repeated-k-fold-cross-validation-with-python/\n",
    "\n",
    "What does calling fit() multiple times on the same model do Stack Overflow\n",
    "https://stackoverflow.com/questions/49841324/what-does-calling-fit-multiple-times-on-the-same-model-do\n",
    "\n",
    "Linear Regression Models, Duke University\n",
    "http://people.duke.edu/~rnau/testing.htm\n",
    "\n",
    "Understanding Q-Q Plots, University of Virginia Library\n",
    "https://data.library.virginia.edu/understanding-q-q-plots/\n",
    "\n",
    "Data Science for Biological, Medical and Health Research: Notes for 431 by Thomas E. Love PhD\n",
    "https://thomaselove.github.io/2018-431-book/assessing-normality.html\n",
    "\n",
    "Data Transformation: Standardization vs Normalization by Claire Liu\n",
    "https://www.kdnuggets.com/2020/04/data-transformation-standardization-normalization.html"
   ]
  }
 ],
 "metadata": {
  "kernelspec": {
   "display_name": "Python 3",
   "language": "python",
   "name": "python3"
  },
  "language_info": {
   "codemirror_mode": {
    "name": "ipython",
    "version": 3
   },
   "file_extension": ".py",
   "mimetype": "text/x-python",
   "name": "python",
   "nbconvert_exporter": "python",
   "pygments_lexer": "ipython3",
   "version": "3.8.5"
  }
 },
 "nbformat": 4,
 "nbformat_minor": 4
}
