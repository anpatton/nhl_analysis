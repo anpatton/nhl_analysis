{
 "cells": [
  {
   "cell_type": "code",
   "execution_count": 8,
   "metadata": {},
   "outputs": [],
   "source": [
    "import os\n",
    "import pandas as pd\n",
    "import numpy as np\n",
    "import matplotlib.pyplot as plt\n",
    "from helper_functions import fetch_data\n",
    "pd.set_option('display.max_columns', None)\n",
    "pd.set_option('display.max_rows', None)\n"
   ]
  },
  {
   "cell_type": "code",
   "execution_count": 9,
   "metadata": {},
   "outputs": [],
   "source": [
    "# all_sits_df, pp_df = fetch_data()\n",
    "all_sits_df = pd.read_csv('all_sits_player_goal_data.csv')\n",
    "pp_df = pd.read_csv('pp_player_goal_data.csv')\n"
   ]
  },
  {
   "cell_type": "code",
   "execution_count": 10,
   "metadata": {},
   "outputs": [],
   "source": [
    "def group_data(df):\n",
    "    df.season = df.season.astype(int)\n",
    "    df['prev_season'] = df['season'] - 10001\n",
    "    groupby_columns = ['player', 'api_id', 'season', 'player_upper', \n",
    "                       'birthday', 'position', 'shoots',\n",
    "                       'prev_season', 'position_type', \n",
    "                       'season_age']\n",
    "    agg_columns = ['g', 'a1', 'a2', 'points', 'toi', 'gp', 'isf', 'iff', 'icf']\n",
    "    df = df.groupby(groupby_columns)[agg_columns].sum().reset_index()\n",
    "    return df\n",
    "\n",
    "all_sits_df = group_data(all_sits_df)\n",
    "pp_df = group_data(pp_df)"
   ]
  },
  {
   "cell_type": "code",
   "execution_count": 11,
   "metadata": {},
   "outputs": [],
   "source": [
    "#join the pp stats to the regular stats\n",
    "\n",
    "total_df = all_sits_df.merge(pp_df[['api_id', 'g', 'a1', 'a2', 'season',\n",
    "                                    'points', 'toi', 'gp', 'isf', 'iff', 'icf']], on=['api_id', 'season'],\n",
    "                             suffixes=[None, '_pp'])\n",
    "\n",
    "#create dataframe of season to season goal correlation\n",
    "next_df = total_df.merge(total_df[['api_id', 'season', 'prev_season', 'g', 'season_age']], \n",
    "                         how='inner',\n",
    "                         left_on=['api_id', 'season'], \n",
    "                         right_on=['api_id', 'prev_season'],\n",
    "                         suffixes=[None, '_next'])"
   ]
  },
  {
   "cell_type": "markdown",
   "metadata": {},
   "source": [
    "# Correlations\n",
    "\n",
    "Let's look at the correlations between the existing features and our target variables to spot collinearity or features that don't correlate to extract them as inputs to the model. This can be done faster using some sort of regularized regression but to start we'll keep things a little manual and straight forward while relying on our domain knowledge to build the best model we can."
   ]
  },
  {
   "cell_type": "code",
   "execution_count": 12,
   "metadata": {},
   "outputs": [
    {
     "data": {
      "text/plain": [
       "<matplotlib.collections.PathCollection at 0x135958a00>"
      ]
     },
     "execution_count": 12,
     "metadata": {},
     "output_type": "execute_result"
    },
    {
     "data": {
      "image/png": "[encoded data removed]",
      "text/plain": [
       "<Figure size 432x288 with 1 Axes>"
      ]
     },
     "metadata": {
      "needs_background": "light"
     },
     "output_type": "display_data"
    }
   ],
   "source": [
    "#total scatter correlation\n",
    "#this is the test of linearity\n",
    "plt.scatter(next_df[['g']], next_df[['g_next']])"
   ]
  },
  {
   "cell_type": "code",
   "execution_count": 13,
   "metadata": {},
   "outputs": [],
   "source": [
    "#Now start building a new linear model that takes into affect new features and maybe use \n",
    "#ridge or lasso for feature selection. Also doing a bagging regressor with this too\n",
    "#TODO: need to do some better feature/parameter creation i bet\n",
    "#features:\n",
    "#2. player age done\n",
    "#4. position (dummy variable) done\n",
    "#5. toi_gp done\n",
    "#6. previous years goals done\n",
    "#7. previous years a1 done\n",
    "#8. previous years a2 done\n",
    "#9. previous years points done\n",
    "#10. Past average of past two years goals\n",
    "#11. pp_toi done\n",
    "#12. shooting percentage done\n",
    "#13. shooting percentage difference from carreer shooting percentage over span of data done\n",
    "#14. career goals per season average over span of data done\n",
    "\n",
    "#position dummy variable\n",
    "next_df = pd.concat([next_df, pd.get_dummies(next_df['position_type'], prefix='pos')], axis=1)\n",
    "#toi_gp\n",
    "next_df['toi_gp'] = round(next_df['toi']/next_df['gp'], 2)\n",
    "next_df['sh_percent'] = round(next_df['g']/next_df['isf'], 3)\n",
    "next_df['sh_percent_pp'] = round(next_df['g_pp']/next_df['isf_pp'], 3)\n",
    "\n",
    "#avg goals over career\n",
    "#TODO redo this number of season counts\n",
    "next_df = next_df.sort_values(['api_id', 'season'])\n",
    "next_df[\"number_season\"] = next_df.groupby(\"api_id\")[\"season\"].rank(method=\"first\", ascending=True)\n",
    "\n",
    "next_df['goals_shift'] = next_df['g'] + next_df['g'].shift(1)\n",
    "next_df['cum_goals'] = np.where(next_df['api_id'] == next_df['api_id'].shift(1), \n",
    "                                    next_df['goals_shift'], \n",
    "                                    next_df['g'])\n",
    "next_df['avg_goals_season'] = next_df['cum_goals']/next_df['number_season']\n",
    "\n",
    "#avg shooting percentage over career\n",
    "next_df['cum_shots'] = np.where(next_df['api_id'] == next_df['api_id'].shift(1), \n",
    "                                    next_df['isf'] + next_df['isf'].shift(1), \n",
    "                                    next_df['isf'])\n",
    "next_df['avg_sh_perc'] = round(next_df['cum_goals']/next_df['cum_shots'], 3)\n",
    "\n",
    "#diff of season sh% from career avg\n",
    "next_df['sh_perc_diff'] = next_df['sh_percent'] - next_df['avg_sh_perc']\n",
    "\n",
    "#TODO get last two seasons avg\n",
    "next_df['next_prev_season'] = next_df['prev_season'] - 10001\n",
    "next_df = next_df.merge(next_df[['api_id', 'season', 'g']], \n",
    "                        left_on=['api_id', 'prev_season'], \n",
    "                        right_on=['api_id','season'], how='left')\n",
    "next_df = next_df.merge(next_df[['api_id', 'season_x', 'g_x']], \n",
    "                        left_on=['api_id', 'next_prev_season'], \n",
    "                        right_on=['api_id','season_x'], how='left',\n",
    "                        suffixes=[None, '_z'])\n",
    "next_df['g_avg_past_2_seasons'] = (next_df['g_y'] + next_df['g_x_z'])/2\n",
    "\n",
    "#prorate goals for strike shortened season\n",
    "\n",
    "next_df['g_x'] = np.where(next_df['season_x'] == 20122013, (next_df['g_x']/next_df['gp']) * 82, next_df['g_x'])\n",
    "next_df['g_pp'] = np.where(next_df['season_x'] == 20122013, (next_df['g_pp']/next_df['gp']) * 82, next_df['g_pp'])\n",
    "#dropping the columns i don't need and renaming some to be more useful\n",
    "columns = ['player', 'api_id', 'season_x', 'player_upper', 'position', 'shoots', 'season_age_next',\n",
    "           'g_x', 'a1', 'a2', 'points', 'toi', 'gp', 'isf', 'iff', 'icf', 'g_pp', 'a1_pp', 'a2_pp',\n",
    "           'points_pp', 'toi_pp', 'gp_pp', 'isf_pp', 'iff_pp', 'season_next', 'g_next', 'pos_D',\n",
    "           'pos_D/F', 'pos_F', 'toi_gp', 'sh_percent', 'sh_percent_pp', 'avg_goals_season', 'avg_sh_perc', \n",
    "           'sh_perc_diff', 'g_avg_past_2_seasons']\n",
    "\n",
    "renamed_columns = ['player', 'api_id', 'season', 'player_upper', 'position', 'shoots', 'next_season_age',\n",
    "                   'g', 'a1', 'a2', 'points', 'toi', 'gp', 'isf', 'iff', 'icf', 'g_pp', 'a1_pp', 'a2_pp',\n",
    "                   'points_pp', 'toi_pp', 'gp_pp', 'isf_pp', 'iff_pp', 'season_next', 'g_next', 'pos_D',\n",
    "                   'pos_D/F', 'pos_F', 'toi_gp', 'sh_percent', 'sh_percent_pp', 'avg_goals_season', \n",
    "                   'avg_sh_perc', 'sh_perc_diff', 'g_avg_past_2_seasons']\n",
    "next_df = next_df[columns]\n",
    "next_df.columns = renamed_columns"
   ]
  },
  {
   "cell_type": "code",
   "execution_count": 15,
   "metadata": {},
   "outputs": [],
   "source": [
    "next_df = next_df.replace(np.nan, 0)\n",
    "feature_columns = ['next_season_age',\n",
    "                   'g', 'a1', 'a2', 'toi', 'gp', 'isf', 'iff', 'g_pp', 'a1_pp', 'a2_pp',\n",
    "                   'toi_pp', 'isf_pp', 'iff_pp', 'season_next', 'pos_D',\n",
    "                   'pos_D/F', 'pos_F', 'toi_gp', 'sh_percent', 'sh_percent_pp', 'avg_goals_season', \n",
    "                   'avg_sh_perc', 'sh_perc_diff', 'g_avg_past_2_seasons'] \n",
    "\n",
    "from sklearn.model_selection import train_test_split\n",
    "x_train, x_test, y_train, y_test = train_test_split(\n",
    "    next_df[feature_columns], next_df[['g_next']], test_size=0.2, random_state=42)"
   ]
  },
  {
   "cell_type": "code",
   "execution_count": 16,
   "metadata": {},
   "outputs": [
    {
     "name": "stderr",
     "output_type": "stream",
     "text": [
      "/Users/matthewbarlowe/.virtualenvs/nhl/lib/python3.8/site-packages/sklearn/utils/validation.py:72: DataConversionWarning: A column-vector y was passed when a 1d array was expected. Please change the shape of y to (n_samples, ), for example using ravel().\n",
      "  return f(**kwargs)\n"
     ]
    }
   ],
   "source": [
    "from sklearn.feature_selection import SelectKBest\n",
    "from sklearn.feature_selection import f_classif\n",
    "\n",
    "KBest = SelectKBest(score_func = f_classif, k = 'all')\n",
    "KBest = KBest.fit(x_train, y_train)"
   ]
  },
  {
   "cell_type": "code",
   "execution_count": 17,
   "metadata": {},
   "outputs": [
    {
     "data": {
      "text/html": [
       "<div>\n",
       "<style scoped>\n",
       "    .dataframe tbody tr th:only-of-type {\n",
       "        vertical-align: middle;\n",
       "    }\n",
       "\n",
       "    .dataframe tbody tr th {\n",
       "        vertical-align: top;\n",
       "    }\n",
       "\n",
       "    .dataframe thead th {\n",
       "        text-align: right;\n",
       "    }\n",
       "</style>\n",
       "<table border=\"1\" class=\"dataframe\">\n",
       "  <thead>\n",
       "    <tr style=\"text-align: right;\">\n",
       "      <th></th>\n",
       "      <th>features</th>\n",
       "      <th>f_classif score</th>\n",
       "      <th>pValue</th>\n",
       "    </tr>\n",
       "  </thead>\n",
       "  <tbody>\n",
       "    <tr>\n",
       "      <th>0</th>\n",
       "      <td>next_season_age</td>\n",
       "      <td>1.513017</td>\n",
       "      <td>1.078667e-02</td>\n",
       "    </tr>\n",
       "    <tr>\n",
       "      <th>1</th>\n",
       "      <td>g</td>\n",
       "      <td>180.735202</td>\n",
       "      <td>0.000000e+00</td>\n",
       "    </tr>\n",
       "    <tr>\n",
       "      <th>2</th>\n",
       "      <td>a1</td>\n",
       "      <td>93.351849</td>\n",
       "      <td>0.000000e+00</td>\n",
       "    </tr>\n",
       "    <tr>\n",
       "      <th>3</th>\n",
       "      <td>a2</td>\n",
       "      <td>48.986407</td>\n",
       "      <td>0.000000e+00</td>\n",
       "    </tr>\n",
       "    <tr>\n",
       "      <th>4</th>\n",
       "      <td>toi</td>\n",
       "      <td>41.328268</td>\n",
       "      <td>0.000000e+00</td>\n",
       "    </tr>\n",
       "    <tr>\n",
       "      <th>5</th>\n",
       "      <td>gp</td>\n",
       "      <td>42.947215</td>\n",
       "      <td>0.000000e+00</td>\n",
       "    </tr>\n",
       "    <tr>\n",
       "      <th>6</th>\n",
       "      <td>isf</td>\n",
       "      <td>128.326199</td>\n",
       "      <td>0.000000e+00</td>\n",
       "    </tr>\n",
       "    <tr>\n",
       "      <th>7</th>\n",
       "      <td>iff</td>\n",
       "      <td>123.250032</td>\n",
       "      <td>0.000000e+00</td>\n",
       "    </tr>\n",
       "    <tr>\n",
       "      <th>8</th>\n",
       "      <td>g_pp</td>\n",
       "      <td>98.189141</td>\n",
       "      <td>0.000000e+00</td>\n",
       "    </tr>\n",
       "    <tr>\n",
       "      <th>9</th>\n",
       "      <td>a1_pp</td>\n",
       "      <td>44.733404</td>\n",
       "      <td>0.000000e+00</td>\n",
       "    </tr>\n",
       "    <tr>\n",
       "      <th>10</th>\n",
       "      <td>a2_pp</td>\n",
       "      <td>35.441022</td>\n",
       "      <td>1.011932e-303</td>\n",
       "    </tr>\n",
       "    <tr>\n",
       "      <th>11</th>\n",
       "      <td>toi_pp</td>\n",
       "      <td>82.454891</td>\n",
       "      <td>0.000000e+00</td>\n",
       "    </tr>\n",
       "    <tr>\n",
       "      <th>12</th>\n",
       "      <td>isf_pp</td>\n",
       "      <td>84.910082</td>\n",
       "      <td>0.000000e+00</td>\n",
       "    </tr>\n",
       "    <tr>\n",
       "      <th>13</th>\n",
       "      <td>iff_pp</td>\n",
       "      <td>82.843591</td>\n",
       "      <td>0.000000e+00</td>\n",
       "    </tr>\n",
       "    <tr>\n",
       "      <th>14</th>\n",
       "      <td>season_next</td>\n",
       "      <td>1.242293</td>\n",
       "      <td>1.158710e-01</td>\n",
       "    </tr>\n",
       "    <tr>\n",
       "      <th>15</th>\n",
       "      <td>pos_D</td>\n",
       "      <td>30.546927</td>\n",
       "      <td>1.945523e-261</td>\n",
       "    </tr>\n",
       "    <tr>\n",
       "      <th>16</th>\n",
       "      <td>pos_D/F</td>\n",
       "      <td>0.177765</td>\n",
       "      <td>1.000000e+00</td>\n",
       "    </tr>\n",
       "    <tr>\n",
       "      <th>17</th>\n",
       "      <td>pos_F</td>\n",
       "      <td>30.590984</td>\n",
       "      <td>8.011874e-262</td>\n",
       "    </tr>\n",
       "    <tr>\n",
       "      <th>18</th>\n",
       "      <td>toi_gp</td>\n",
       "      <td>21.129316</td>\n",
       "      <td>3.584297e-177</td>\n",
       "    </tr>\n",
       "    <tr>\n",
       "      <th>19</th>\n",
       "      <td>sh_percent</td>\n",
       "      <td>23.507195</td>\n",
       "      <td>8.504160e-199</td>\n",
       "    </tr>\n",
       "    <tr>\n",
       "      <th>20</th>\n",
       "      <td>sh_percent_pp</td>\n",
       "      <td>14.499468</td>\n",
       "      <td>7.729739e-116</td>\n",
       "    </tr>\n",
       "    <tr>\n",
       "      <th>21</th>\n",
       "      <td>avg_goals_season</td>\n",
       "      <td>99.948335</td>\n",
       "      <td>0.000000e+00</td>\n",
       "    </tr>\n",
       "    <tr>\n",
       "      <th>22</th>\n",
       "      <td>avg_sh_perc</td>\n",
       "      <td>30.478080</td>\n",
       "      <td>7.785897e-261</td>\n",
       "    </tr>\n",
       "    <tr>\n",
       "      <th>23</th>\n",
       "      <td>sh_perc_diff</td>\n",
       "      <td>0.513485</td>\n",
       "      <td>9.984316e-01</td>\n",
       "    </tr>\n",
       "    <tr>\n",
       "      <th>24</th>\n",
       "      <td>g_avg_past_2_seasons</td>\n",
       "      <td>54.678916</td>\n",
       "      <td>0.000000e+00</td>\n",
       "    </tr>\n",
       "  </tbody>\n",
       "</table>\n",
       "</div>"
      ],
      "text/plain": [
       "                features  f_classif score         pValue\n",
       "0        next_season_age         1.513017   1.078667e-02\n",
       "1                      g       180.735202   0.000000e+00\n",
       "2                     a1        93.351849   0.000000e+00\n",
       "3                     a2        48.986407   0.000000e+00\n",
       "4                    toi        41.328268   0.000000e+00\n",
       "5                     gp        42.947215   0.000000e+00\n",
       "6                    isf       128.326199   0.000000e+00\n",
       "7                    iff       123.250032   0.000000e+00\n",
       "8                   g_pp        98.189141   0.000000e+00\n",
       "9                  a1_pp        44.733404   0.000000e+00\n",
       "10                 a2_pp        35.441022  1.011932e-303\n",
       "11                toi_pp        82.454891   0.000000e+00\n",
       "12                isf_pp        84.910082   0.000000e+00\n",
       "13                iff_pp        82.843591   0.000000e+00\n",
       "14           season_next         1.242293   1.158710e-01\n",
       "15                 pos_D        30.546927  1.945523e-261\n",
       "16               pos_D/F         0.177765   1.000000e+00\n",
       "17                 pos_F        30.590984  8.011874e-262\n",
       "18                toi_gp        21.129316  3.584297e-177\n",
       "19            sh_percent        23.507195  8.504160e-199\n",
       "20         sh_percent_pp        14.499468  7.729739e-116\n",
       "21      avg_goals_season        99.948335   0.000000e+00\n",
       "22           avg_sh_perc        30.478080  7.785897e-261\n",
       "23          sh_perc_diff         0.513485   9.984316e-01\n",
       "24  g_avg_past_2_seasons        54.678916   0.000000e+00"
      ]
     },
     "execution_count": 17,
     "metadata": {},
     "output_type": "execute_result"
    }
   ],
   "source": [
    "df_scores = pd.DataFrame({'features': x_train.columns, 'f_classif score': KBest.scores_, 'pValue': KBest.pvalues_ })\n",
    "df_scores"
   ]
  },
  {
   "cell_type": "code",
   "execution_count": 18,
   "metadata": {},
   "outputs": [
    {
     "data": {
      "text/plain": [
       "Index(['next_season_age', 'g', 'a1', 'a2', 'toi', 'gp', 'isf', 'iff', 'g_pp',\n",
       "       'a1_pp', 'a2_pp', 'toi_pp', 'isf_pp', 'iff_pp', 'season_next', 'pos_D',\n",
       "       'pos_D/F', 'pos_F', 'toi_gp', 'sh_percent', 'sh_percent_pp',\n",
       "       'avg_goals_season', 'avg_sh_perc', 'sh_perc_diff',\n",
       "       'g_avg_past_2_seasons'],\n",
       "      dtype='object')"
      ]
     },
     "execution_count": 18,
     "metadata": {},
     "output_type": "execute_result"
    }
   ],
   "source": [
    "cols = KBest.get_support(indices=True)\n",
    "features = x_train.columns[cols]\n",
    "features"
   ]
  },
  {
   "cell_type": "code",
   "execution_count": 26,
   "metadata": {},
   "outputs": [],
   "source": [
    "from sklearn.linear_model import LinearRegression\n",
    "from sklearn.ensemble import BaggingRegressor\n",
    "from sklearn.metrics import mean_squared_error, r2_score, mean_absolute_error\n",
    "from sklearn.model_selection import KFold\n",
    "import math\n",
    "from functools import reduce\n",
    "import itertools\n",
    "import time\n",
    "\n",
    "def cv_model(x, y, model, results: dict, n_estimators: int, n_splits: int):\n",
    "    r_squared = []\n",
    "    mse_list = []\n",
    "    rmse_list = []\n",
    "    mae_list = []\n",
    "    kf = KFold(n_splits=n_splits)\n",
    "    estimator = BaggingRegressor(model, n_estimators=n_estimators, bootstrap=True)\n",
    "    for train_index, test_index in kf.split(x):\n",
    "\n",
    "        train_x = x[list(features)].iloc[train_index]\n",
    "        train_y = y.iloc[train_index]\n",
    "        test_x = x[list(features)].iloc[test_index]\n",
    "        test_y = y.iloc[test_index]\n",
    "        '''\n",
    "        if x == 0:\n",
    "            print(f\"Fitting Model... {x+1}\", end=\",\")\n",
    "        elif x == 9:\n",
    "            print(f\"{x+1}\")\n",
    "        else:\n",
    "            print(f\"{x+1}\", end=\",\")\n",
    "        x = x + 1\n",
    "        '''\n",
    "        estimator.fit(train_x, train_y.values[:,0])\n",
    "        y_hat_values = estimator.predict(test_x)\n",
    "        #Testing the coefficient of determination in the training set. R^2 is the proportion\n",
    "    #of the variance in the dependent variable that is predictable from the independent variables\n",
    "        r_squared.append(estimator.score(test_x, test_y))\n",
    "    #Mean Squared Error is used to compare between different models where the smaller the number the better\n",
    "    #An unbiased esitmator with the smallest variance among all unbiased estimators is the best unbiased\n",
    "    #estimator or MVUE(minimum Variance Unbiased Estimator)\n",
    "        mse_list.append(mean_squared_error(test_y, y_hat_values))\n",
    "        rmse_list.append(math.sqrt(mean_squared_error(test_y, y_hat_values)))\n",
    "        mae_list.append(mean_absolute_error(test_y, y_hat_values))\n",
    "    avg_r_squared = round(reduce(lambda x, y: x + y, r_squared) / len(r_squared), 4)\n",
    "    avg_mse = round(reduce(lambda x, y: x + y, mse_list) / len(mse_list), 4)\n",
    "    avg_rmse = round(reduce(lambda x, y: x + y, rmse_list) / len(rmse_list), 4)\n",
    "    avg_mae = round(reduce(lambda x, y: x + y, mae_list) / len(mae_list), 4)\n",
    "    print(f\"Building model with features: {features}\")\n",
    "    print((\"Baseline linear model test set metrics:\\n\"\n",
    "           f\"Average R^2 for test set: {avg_r_squared}\\n\"\n",
    "           f\"Average Mean Squared Error for test set: {avg_mse}\\n\"\n",
    "           f\"Average Root Mean Squared Error for test set: {avg_rmse}\\n\"\n",
    "           f\"Average Mean Absolute Error for test set: {avg_mae}\"\n",
    "           ))\n",
    "    \n",
    "    return estimator"
   ]
  },
  {
   "cell_type": "code",
   "execution_count": 27,
   "metadata": {},
   "outputs": [
    {
     "name": "stdout",
     "output_type": "stream",
     "text": [
      "Building model with features: Index(['next_season_age', 'g', 'a1', 'a2', 'toi', 'gp', 'isf', 'iff', 'g_pp',\n",
      "       'a1_pp', 'a2_pp', 'toi_pp', 'isf_pp', 'iff_pp', 'season_next', 'pos_D',\n",
      "       'pos_D/F', 'pos_F', 'toi_gp', 'sh_percent', 'sh_percent_pp',\n",
      "       'avg_goals_season', 'avg_sh_perc', 'sh_perc_diff',\n",
      "       'g_avg_past_2_seasons'],\n",
      "      dtype='object')\n",
      "Baseline linear model test set metrics:\n",
      "Average R^2 for test set: 0.6357\n",
      "Average Mean Squared Error for test set: 29.5312\n",
      "Average Root Mean Squared Error for test set: 5.4304\n",
      "Average Mean Absolute Error for test set: 3.9075\n"
     ]
    }
   ],
   "source": [
    "model_dict = {'model': '', 'features': '', 'r_squared': '', 'mse': '', 'rmse': ''}\n",
    "estimator = cv_model(x_train, y_train, LinearRegression(), model_dict, 500, 10)"
   ]
  },
  {
   "cell_type": "code",
   "execution_count": 28,
   "metadata": {},
   "outputs": [
    {
     "data": {
      "text/plain": [
       "0.6110646185637705"
      ]
     },
     "execution_count": 28,
     "metadata": {},
     "output_type": "execute_result"
    }
   ],
   "source": [
    "estimator.score(x_test[list(features)], y_test)"
   ]
  },
  {
   "cell_type": "code",
   "execution_count": 29,
   "metadata": {},
   "outputs": [
    {
     "name": "stdout",
     "output_type": "stream",
     "text": [
      "Building model with features: Index(['next_season_age', 'g', 'a1', 'a2', 'toi', 'gp', 'isf', 'iff', 'g_pp',\n",
      "       'a1_pp', 'a2_pp', 'toi_pp', 'isf_pp', 'iff_pp', 'season_next', 'pos_D',\n",
      "       'pos_D/F', 'pos_F', 'toi_gp', 'sh_percent', 'sh_percent_pp',\n",
      "       'avg_goals_season', 'avg_sh_perc', 'sh_perc_diff',\n",
      "       'g_avg_past_2_seasons'],\n",
      "      dtype='object')\n",
      "Baseline linear model test set metrics:\n",
      "Average R^2 for test set: 0.6358\n",
      "Average Mean Squared Error for test set: 29.5278\n",
      "Average Root Mean Squared Error for test set: 5.4301\n",
      "Average Mean Absolute Error for test set: 3.9071\n"
     ]
    }
   ],
   "source": [
    "from sklearn.linear_model import Ridge\n",
    "ridge_estimator = cv_model(x_train, y_train, Ridge(alpha=1), model_dict, 500, 10)"
   ]
  },
  {
   "cell_type": "code",
   "execution_count": 30,
   "metadata": {},
   "outputs": [
    {
     "data": {
      "text/plain": [
       "0.6114184888425922"
      ]
     },
     "execution_count": 30,
     "metadata": {},
     "output_type": "execute_result"
    }
   ],
   "source": [
    "ridge_estimator.score(x_test[list(features)], y_test)"
   ]
  },
  {
   "cell_type": "code",
   "execution_count": 31,
   "metadata": {},
   "outputs": [
    {
     "name": "stdout",
     "output_type": "stream",
     "text": [
      "Building model with features: Index(['next_season_age', 'g', 'a1', 'a2', 'toi', 'gp', 'isf', 'iff', 'g_pp',\n",
      "       'a1_pp', 'a2_pp', 'toi_pp', 'isf_pp', 'iff_pp', 'season_next', 'pos_D',\n",
      "       'pos_D/F', 'pos_F', 'toi_gp', 'sh_percent', 'sh_percent_pp',\n",
      "       'avg_goals_season', 'avg_sh_perc', 'sh_perc_diff',\n",
      "       'g_avg_past_2_seasons'],\n",
      "      dtype='object')\n",
      "Baseline linear model test set metrics:\n",
      "Average R^2 for test set: 0.6193\n",
      "Average Mean Squared Error for test set: 30.8675\n",
      "Average Root Mean Squared Error for test set: 5.5508\n",
      "Average Mean Absolute Error for test set: 3.9946\n"
     ]
    }
   ],
   "source": [
    "from sklearn.linear_model import Lasso\n",
    "lasso_estimator = cv_model(x_train, y_train, Lasso(alpha=1), model_dict, 500, 10)"
   ]
  },
  {
   "cell_type": "code",
   "execution_count": 32,
   "metadata": {},
   "outputs": [
    {
     "data": {
      "text/plain": [
       "0.5927150051041936"
      ]
     },
     "execution_count": 32,
     "metadata": {},
     "output_type": "execute_result"
    }
   ],
   "source": [
    "lasso_estimator.score(x_test[list(features)], y_test)"
   ]
  },
  {
   "cell_type": "code",
   "execution_count": 33,
   "metadata": {},
   "outputs": [
    {
     "name": "stdout",
     "output_type": "stream",
     "text": [
      "Building model with features: Index(['next_season_age', 'g', 'a1', 'a2', 'toi', 'gp', 'isf', 'iff', 'g_pp',\n",
      "       'a1_pp', 'a2_pp', 'toi_pp', 'isf_pp', 'iff_pp', 'season_next', 'pos_D',\n",
      "       'pos_D/F', 'pos_F', 'toi_gp', 'sh_percent', 'sh_percent_pp',\n",
      "       'avg_goals_season', 'avg_sh_perc', 'sh_perc_diff',\n",
      "       'g_avg_past_2_seasons'],\n",
      "      dtype='object')\n",
      "Baseline linear model test set metrics:\n",
      "Average R^2 for test set: 0.6221\n",
      "Average Mean Squared Error for test set: 30.6416\n",
      "Average Root Mean Squared Error for test set: 5.5305\n",
      "Average Mean Absolute Error for test set: 3.9774\n"
     ]
    }
   ],
   "source": [
    "from sklearn.linear_model import ElasticNet\n",
    "elastic_estimator = cv_model(x_train, y_train, ElasticNet(alpha=1), model_dict, 500, 10)"
   ]
  },
  {
   "cell_type": "code",
   "execution_count": 34,
   "metadata": {},
   "outputs": [
    {
     "data": {
      "text/plain": [
       "0.5948137900476265"
      ]
     },
     "execution_count": 34,
     "metadata": {},
     "output_type": "execute_result"
    }
   ],
   "source": [
    "elastic_estimator.score(x_test[list(features)], y_test)"
   ]
  },
  {
   "cell_type": "code",
   "execution_count": 23,
   "metadata": {},
   "outputs": [],
   "source": [
    "#graphing results of distribution\n",
    "test_row = x_test.loc[2036, list(features)]\n",
    "results = []\n",
    "for m in estimator.estimators_:\n",
    "    results.append(m.predict([test_row]))\n",
    "results = [x[0] for x in results]\n",
    "\n",
    "plt.hist(results, bins=20)"
   ]
  },
  {
   "cell_type": "code",
   "execution_count": null,
   "metadata": {},
   "outputs": [],
   "source": [
    "def get_prediction_interval(prediction, y_test, test_predictions, pi=.95):\n",
    "    '''\n",
    "    Get a prediction interval for a linear regression.\n",
    "    \n",
    "    INPUTS: \n",
    "        - Single prediction, \n",
    "        - y_test\n",
    "        - All test set predictions,\n",
    "        - Prediction interval threshold (default = .95) \n",
    "    OUTPUT: \n",
    "        - Prediction interval for single prediction\n",
    "    '''\n",
    "    \n",
    "    #get standard deviation of y_test\n",
    "    sum_errs = np.sum((y_test - test_predictions)**2)\n",
    "    stdev = np.sqrt(1 / (len(y_test) - 2) * sum_errs)#get interval from standard deviation\n",
    "    one_minus_pi = 1 - pi\n",
    "    ppf_lookup = 1 - (one_minus_pi / 2)\n",
    "    z_score = stats.norm.ppf(ppf_lookup)\n",
    "    interval = z_score * stdev#generate prediction interval lower and upper bound\n",
    "    lower, upper = prediction - interval, prediction + interval    return lower, prediction, upper"
   ]
  },
  {
   "cell_type": "code",
   "execution_count": 85,
   "metadata": {},
   "outputs": [
    {
     "name": "stdout",
     "output_type": "stream",
     "text": [
      "Foward pearson R: 0.65\n",
      "Defense pearson R: 0.63\n",
      "All Position Pearson R: 0.74\n"
     ]
    }
   ],
   "source": [
    "#pearson correlation coefficients\n",
    "forward_corr = forwards_df['g_x'].corr(forwards_df['g_y'])\n",
    "def_corr = defense_df['g_x'].corr(defense_df['g_y'])\n",
    "total_corr = new_df['g_x'].corr(new_df['g_y'])\n",
    "print((f\"Foward pearson R: {round(forward_corr, 2)}\\n\"\n",
    "       f\"Defense pearson R: {round(def_corr, 2)}\\n\"\n",
    "       f\"All Position Pearson R: {round(total_corr, 2)}\"))"
   ]
  },
  {
   "cell_type": "code",
   "execution_count": 86,
   "metadata": {},
   "outputs": [],
   "source": [
    "#create a baseline linear model using previous season goals to predict next season\n",
    "#goals\n",
    "\n",
    "from sklearn.model_selection import train_test_split\n",
    "\n",
    "#create test and train dataframes\n",
    "train_df, test_df = train_test_split(new_df, test_size=0.2, random_state=8675309)\n",
    "\n"
   ]
  },
  {
   "cell_type": "code",
   "execution_count": 87,
   "metadata": {},
   "outputs": [
    {
     "data": {
      "text/plain": [
       "(array([406., 532., 438., 405., 537., 310., 281., 217., 212., 114.,  72.,\n",
       "         37.,  43.,  14.,   4.,  11.,   2.,   1.,   1.,   1.]),\n",
       " array([ 0.  ,  3.25,  6.5 ,  9.75, 13.  , 16.25, 19.5 , 22.75, 26.  ,\n",
       "        29.25, 32.5 , 35.75, 39.  , 42.25, 45.5 , 48.75, 52.  , 55.25,\n",
       "        58.5 , 61.75, 65.  ]),\n",
       " <BarContainer object of 20 artists>)"
      ]
     },
     "execution_count": 87,
     "metadata": {},
     "output_type": "execute_result"
    },
    {
     "data": {
      "image/png": "[encoded data removed]",
      "text/plain": [
       "<Figure size 432x288 with 1 Axes>"
      ]
     },
     "metadata": {
      "needs_background": "light"
     },
     "output_type": "display_data"
    }
   ],
   "source": [
    "#Distribution of the data fits a poisson or pareto distribution\n",
    "#this may be useful for more advanced models\n",
    "plt.hist(new_df.g_x, bins=20)"
   ]
  },
  {
   "cell_type": "code",
   "execution_count": null,
   "metadata": {},
   "outputs": [],
   "source": [
    "#need write functions to create models and run them through the metrics createthe outputs\n",
    "\n",
    "def create_model():\n",
    "    pass\n",
    "\n",
    "def model_metrics():\n",
    "    pass"
   ]
  },
  {
   "cell_type": "code",
   "execution_count": 88,
   "metadata": {},
   "outputs": [
    {
     "data": {
      "text/plain": [
       "BaggingRegressor(base_estimator=LinearRegression(), n_estimators=5000)"
      ]
     },
     "execution_count": 88,
     "metadata": {},
     "output_type": "execute_result"
    }
   ],
   "source": [
    "from sklearn.linear_model import LinearRegression\n",
    "from sklearn.ensemble import BaggingRegressor\n",
    "from sklearn.metrics import mean_squared_error, r2_score\n",
    "\n",
    "n_estimators = 5000\n",
    "reg = BaggingRegressor(LinearRegression(), n_estimators=n_estimators, bootstrap=True)\n",
    "\n",
    "reg.fit(train_df[['g_x']], train_df[['g_y']].values[:,0])"
   ]
  },
  {
   "cell_type": "code",
   "execution_count": 89,
   "metadata": {},
   "outputs": [],
   "source": [
    "#This is bootstrapping a confidence interval for the results of linear regresssions\n",
    "def bootstrap_prediction(bag_reg: BaggingRegressor, value: int):\n",
    "    results = []\n",
    "    for m in bag_reg.estimators_:\n",
    "        results.append(m.predict(np.array([[value]]))[0])\n",
    "    return results"
   ]
  },
  {
   "cell_type": "code",
   "execution_count": 91,
   "metadata": {},
   "outputs": [
    {
     "name": "stdout",
     "output_type": "stream",
     "text": [
      "Baseline linear model train set metrics:\n",
      "R^2 for train set: 0.4469\n",
      "Mean Squared Error for train set: 40.8864\n",
      "Root Mean Squared Error for train set: 6.39\n"
     ]
    }
   ],
   "source": [
    "import math\n",
    "pd.options.mode.chained_assignment = None \n",
    "train_df[['y_hat']] = reg.predict(train_df[['g_x']])\n",
    "#Testing the coefficient of determination in the training set. R^2 is the proportion\n",
    "#of the variance in the dependent variable that is predictable from the independent variables\n",
    "r_squared = reg.score(train_df[['g_y']], train_df[['y_hat']])\n",
    "#Mean Squared Error is used to compare between different models where the smaller the number the better\n",
    "#An unbiased esitmator with the smallest variance among all unbiased estimators is the best unbiased\n",
    "#estimator or MVUE(minimum Variance Unbiased Estimator)\n",
    "mse = mean_squared_error(train_df[['g_y']], train_df[['y_hat']])\n",
    "print((\"Baseline linear model train set metrics:\\n\"\n",
    "       f\"R^2 for train set: {round(r_squared, 4)}\\n\"\n",
    "       f\"Mean Squared Error for train set: {round(mse, 4)}\\n\"\n",
    "       f\"Root Mean Squared Error for train set: {round(math.sqrt(mse), 2)}\"))"
   ]
  },
  {
   "cell_type": "code",
   "execution_count": 92,
   "metadata": {},
   "outputs": [
    {
     "name": "stdout",
     "output_type": "stream",
     "text": [
      "Baseline linear model test set metrics:\n",
      "R^2 for test set: 0.4171\n",
      "Mean Squared Error for test set: 45.5186\n",
      "Root Mean Squared Error for test set: 6.75\n"
     ]
    }
   ],
   "source": [
    "test_df[['y_hat']] = reg.predict(test_df[['g_x']])\n",
    "#Testing the coefficient of determination in the testing set. R^2 is the proportion\n",
    "#of the variance in the dependent variable that is predictable from the independent variables\n",
    "r_squared = reg.score(test_df[['g_y']], test_df[['y_hat']])\n",
    "#Mean Squared Error is used to compare between different models where the smaller the number the better\n",
    "#An unbiased esitmator with the smallest variance among all unbiased estimators is the best unbiased\n",
    "#estimator or MVUE(minimum Variance Unbiased Estimator)\n",
    "mse = mean_squared_error(test_df[['g_y']], test_df[['y_hat']])\n",
    "print((\"Baseline linear model test set metrics:\\n\"\n",
    "       f\"R^2 for test set: {round(r_squared, 4)}\\n\"\n",
    "       f\"Mean Squared Error for test set: {round(mse, 4)}\\n\"\n",
    "       f\"Root Mean Squared Error for test set: {round(math.sqrt(mse), 2)}\"))"
   ]
  },
  {
   "cell_type": "code",
   "execution_count": 93,
   "metadata": {},
   "outputs": [
    {
     "data": {
      "text/plain": [
       "Index(['player_x', 'api_id', 'g_x', 'season_x', 'a1', 'a2', 'points', 'toi',\n",
       "       'gp', 'season_minus_one_x', 'position_type_x', 'season_age_x',\n",
       "       'player_y', 'g_y', 'season_y', 'season_minus_one_y', 'position_type_y',\n",
       "       'season_age_y', 'season_20082009', 'season_20092010', 'season_20102011',\n",
       "       'season_20112012', 'season_20122013', 'season_20142015',\n",
       "       'season_20152016', 'season_20162017', 'season_20172018',\n",
       "       'season_20182019', 'season_20192020', 'pos_D', 'pos_D/F', 'pos_F',\n",
       "       'toi_gp', 'y_hat'],\n",
       "      dtype='object')"
      ]
     },
     "execution_count": 93,
     "metadata": {},
     "output_type": "execute_result"
    }
   ],
   "source": [
    "train_df.columns"
   ]
  },
  {
   "cell_type": "code",
   "execution_count": 94,
   "metadata": {},
   "outputs": [
    {
     "data": {
      "text/plain": [
       "BaggingRegressor(base_estimator=LinearRegression(), n_estimators=5000)"
      ]
     },
     "execution_count": 94,
     "metadata": {},
     "output_type": "execute_result"
    }
   ],
   "source": [
    "#Start training the model using more variables and compare to the baseline\n",
    "n_estimators = 5000\n",
    "multi_var_reg = BaggingRegressor(LinearRegression(), n_estimators=n_estimators, bootstrap=True)\n",
    "\n",
    "multi_var_reg.fit(train_df[['g_x','season_age_y', 'toi_gp', 'a1', 'a2', \n",
    "                            'points', 'season_y', 'pos_D', 'pos_D/F', 'pos_F']], train_df[['g_y']].values[:,0])\n"
   ]
  },
  {
   "cell_type": "code",
   "execution_count": 95,
   "metadata": {},
   "outputs": [],
   "source": [
    "import math\n",
    "pd.options.mode.chained_assignment = None \n",
    "train_df[['y_hat_multi']] = multi_var_reg.predict(train_df[['g_x','season_age_y', 'toi_gp', 'a1', 'a2', \n",
    "                                                            'points', 'season_y', 'pos_D', 'pos_D/F', 'pos_F']])\n"
   ]
  },
  {
   "cell_type": "code",
   "execution_count": 96,
   "metadata": {},
   "outputs": [
    {
     "name": "stdout",
     "output_type": "stream",
     "text": [
      "Baseline linear model train set metrics:\n",
      "R^2 for train set: 0.5916\n",
      "Mean Squared Error for train set: 37.2311\n",
      "Root Mean Squared Error for train set: 6.1\n"
     ]
    }
   ],
   "source": [
    "#Testing the coefficient of determination in the training set. R^2 is the proportion\n",
    "#of the variance in the dependent variable that is predictable from the independent variables\n",
    "r_squared = multi_var_reg.score(train_df[['g_x','season_age_y', 'toi_gp', 'a1', 'a2', \n",
    "                                          'points', 'season_y', 'pos_D', 'pos_D/F', 'pos_F']], train_df[['g_y']])\n",
    "#Mean Squared Error is used to compare between different models where the smaller the number the better\n",
    "#An unbiased esitmator with the smallest variance among all unbiased estimators is the best unbiased\n",
    "#estimator or MVUE(minimum Variance Unbiased Estimator)\n",
    "mse = mean_squared_error(train_df[['g_y']], train_df[['y_hat_multi']])\n",
    "print((\"Baseline linear model train set metrics:\\n\"\n",
    "       f\"R^2 for train set: {round(r_squared, 4)}\\n\"\n",
    "       f\"Mean Squared Error for train set: {round(mse, 4)}\\n\"\n",
    "       f\"Root Mean Squared Error for train set: {round(math.sqrt(mse), 2)}\"))"
   ]
  },
  {
   "cell_type": "code",
   "execution_count": 97,
   "metadata": {},
   "outputs": [
    {
     "name": "stdout",
     "output_type": "stream",
     "text": [
      "Baseline linear model test set metrics:\n",
      "R^2 for test set: 0.579\n",
      "Mean Squared Error for test set: 42.3895\n",
      "Root Mean Squared Error for test set: 6.51\n",
      "Mean Absolute Error for test set: 4.86\n"
     ]
    }
   ],
   "source": [
    "from sklearn.metrics import mean_absolute_error\n",
    "test_df[['y_hat_multi']] = multi_var_reg.predict(test_df[['g_x','season_age_y', 'toi_gp', 'a1', 'a2', \n",
    "                                                            'points', 'season_y', 'pos_D', 'pos_D/F', 'pos_F']])\n",
    "\n",
    "#Testing the coefficient of determination in the training set. R^2 is the proportion\n",
    "#of the variance in the dependent variable that is predictable from the independent variables\n",
    "r_squared = multi_var_reg.score(test_df[['g_x','season_age_y', 'toi_gp', 'a1', 'a2', \n",
    "                                          'points', 'season_y', 'pos_D', 'pos_D/F', 'pos_F']], test_df[['g_y']])\n",
    "#Mean Squared Error is used to compare between different models where the smaller the number the better\n",
    "#An unbiased esitmator with the smallest variance among all unbiased estimators is the best unbiased\n",
    "#estimator or MVUE(minimum Variance Unbiased Estimator)\n",
    "mse = mean_squared_error(test_df[['g_y']], test_df[['y_hat_multi']])\n",
    "print((\"Baseline linear model test set metrics:\\n\"\n",
    "       f\"R^2 for test set: {round(r_squared, 4)}\\n\"\n",
    "       f\"Mean Squared Error for test set: {round(mse, 4)}\\n\"\n",
    "       f\"Root Mean Squared Error for test set: {round(math.sqrt(mse), 2)}\\n\"\n",
    "       f\"Mean Absolute Error for test set: \"\n",
    "       f\"{round(mean_absolute_error(test_df[['g_y']], test_df[['y_hat_multi']]), 2)}\"))\n",
    "\n",
    "#This model does allright however i think it underates the ability of a player to score more goals the next season\n",
    "#especially on outliers when those are usually the more talented players who would have a higher probability \n",
    "#of scoring at or more. I think there should be some probability in my distributions of prediction intervals\n",
    "#to score more goals however slight Not sure how to get there yet. 2020-10-18"
   ]
  },
  {
   "cell_type": "code",
   "execution_count": 72,
   "metadata": {},
   "outputs": [
    {
     "data": {
      "text/plain": [
       "array([[30., 13., 59.]])"
      ]
     },
     "execution_count": 72,
     "metadata": {},
     "output_type": "execute_result"
    }
   ],
   "source": [
    "test_row = test_df[['g_x','season_age_y', 'toi_gp', 'a1', 'a2', 'points', \n",
    "                    'season_y', 'pos_D', 'pos_D/F', 'pos_F']].loc[5359, :]\n",
    "\n",
    "np.array([test_row])"
   ]
  },
  {
   "cell_type": "code",
   "execution_count": 73,
   "metadata": {},
   "outputs": [],
   "source": [
    "results = []\n",
    "for m in multi_var_reg.estimators_:\n",
    "    results.append(m.predict([test_row]))"
   ]
  },
  {
   "cell_type": "code",
   "execution_count": 74,
   "metadata": {},
   "outputs": [
    {
     "data": {
      "text/plain": [
       "array([22.31486903])"
      ]
     },
     "execution_count": 74,
     "metadata": {},
     "output_type": "execute_result"
    }
   ],
   "source": [
    "multi_var_reg.predict([test_row])"
   ]
  },
  {
   "cell_type": "code",
   "execution_count": 75,
   "metadata": {},
   "outputs": [],
   "source": [
    "results = [x[0] for x in results]"
   ]
  },
  {
   "cell_type": "code",
   "execution_count": 76,
   "metadata": {},
   "outputs": [
    {
     "data": {
      "text/plain": [
       "g_x       30.0\n",
       "a2        13.0\n",
       "points    59.0\n",
       "Name: 5359, dtype: float64"
      ]
     },
     "execution_count": 76,
     "metadata": {},
     "output_type": "execute_result"
    }
   ],
   "source": [
    "test_row"
   ]
  },
  {
   "cell_type": "code",
   "execution_count": 77,
   "metadata": {},
   "outputs": [
    {
     "data": {
      "text/plain": [
       "(array([  1.,   4.,   4.,   9.,  27.,  68., 137., 272., 447., 659., 727.,\n",
       "        756., 659., 501., 378., 193., 106.,  35.,  15.,   2.]),\n",
       " array([20.90087746, 21.02705963, 21.1532418 , 21.27942397, 21.40560614,\n",
       "        21.5317883 , 21.65797047, 21.78415264, 21.91033481, 22.03651697,\n",
       "        22.16269914, 22.28888131, 22.41506348, 22.54124564, 22.66742781,\n",
       "        22.79360998, 22.91979215, 23.04597431, 23.17215648, 23.29833865,\n",
       "        23.42452082]),\n",
       " <BarContainer object of 20 artists>)"
      ]
     },
     "execution_count": 77,
     "metadata": {},
     "output_type": "execute_result"
    },
    {
     "data": {
      "image/png": "[encoded data removed]",
      "text/plain": [
       "<Figure size 432x288 with 1 Axes>"
      ]
     },
     "metadata": {
      "needs_background": "light"
     },
     "output_type": "display_data"
    }
   ],
   "source": [
    "plt.hist(results, bins=20)\n"
   ]
  },
  {
   "cell_type": "code",
   "execution_count": 54,
   "metadata": {},
   "outputs": [],
   "source": [
    "forty_df = new_df[new_df.g_x >= 30]"
   ]
  },
  {
   "cell_type": "code",
   "execution_count": 55,
   "metadata": {},
   "outputs": [
    {
     "data": {
      "text/plain": [
       "0.38095238095238093"
      ]
     },
     "execution_count": 55,
     "metadata": {},
     "output_type": "execute_result"
    }
   ],
   "source": [
    "len(forty_df[forty_df.g_y >= 30].player_x.unique())/len(forty_df.player_x.unique())"
   ]
  },
  {
   "cell_type": "code",
   "execution_count": 47,
   "metadata": {},
   "outputs": [
    {
     "data": {
      "text/plain": [
       "56"
      ]
     },
     "execution_count": 47,
     "metadata": {},
     "output_type": "execute_result"
    }
   ],
   "source": [
    "len(forty_df[forty_df.g_y >= 30].player_x.unique())"
   ]
  },
  {
   "cell_type": "code",
   "execution_count": 35,
   "metadata": {
    "scrolled": true
   },
   "outputs": [
    {
     "data": {
      "text/plain": [
       "(array([ 1.,  4.,  1.,  1.,  3.,  6.,  3.,  8.,  4., 14.,  7.,  4.,  2.,\n",
       "         2.,  1.,  1.,  3.,  1.,  1.,  1.]),\n",
       " array([ 9.  , 11.55, 14.1 , 16.65, 19.2 , 21.75, 24.3 , 26.85, 29.4 ,\n",
       "        31.95, 34.5 , 37.05, 39.6 , 42.15, 44.7 , 47.25, 49.8 , 52.35,\n",
       "        54.9 , 57.45, 60.  ]),\n",
       " <BarContainer object of 20 artists>)"
      ]
     },
     "execution_count": 35,
     "metadata": {},
     "output_type": "execute_result"
    },
    {
     "data": {
      "image/png": "[encoded data removed]",
      "text/plain": [
       "<Figure size 432x288 with 1 Axes>"
      ]
     },
     "metadata": {
      "needs_background": "light"
     },
     "output_type": "display_data"
    }
   ],
   "source": [
    "plt.hist(forty_df['g_y'], bins=20)"
   ]
  },
  {
   "cell_type": "code",
   "execution_count": null,
   "metadata": {},
   "outputs": [],
   "source": []
  },
  {
   "cell_type": "code",
   "execution_count": null,
   "metadata": {},
   "outputs": [],
   "source": [
    "#write a funciton to determine the pareto division of how much of the fat tail is held by what \n",
    "#percentage of players"
   ]
  },
  {
   "cell_type": "code",
   "execution_count": 216,
   "metadata": {},
   "outputs": [],
   "source": [
    "#pareto distribution function\n",
    "import math\n",
    "alpha = 1/(1-(math.log10(.7)/math.log10(0.3)))\n",
    "x_sub_m = 1\n",
    "def pareto_prob(x):\n",
    "    \"\"\"\n",
    "    returns probability that some number X will be greater than x by the distribution of the Pareto curve\n",
    "    defined by observed goal scoring behavior\n",
    "    \"\"\"\n",
    "    alpha = 1/(1-(math.log10(.7)/math.log10(0.3)))\n",
    "    x_sub_m = 1\n",
    "    return (x_sub_m/x)^alpha"
   ]
  },
  {
   "cell_type": "code",
   "execution_count": 65,
   "metadata": {},
   "outputs": [],
   "source": [
    "total_seasons=new_df.shape[0]"
   ]
  },
  {
   "cell_type": "code",
   "execution_count": 66,
   "metadata": {},
   "outputs": [],
   "source": [
    "more_goals_df = new_df[new_df.g_y > new_df.g_x]"
   ]
  },
  {
   "cell_type": "code",
   "execution_count": 67,
   "metadata": {},
   "outputs": [],
   "source": [
    "seasons_w_more_goals = more_goals_df.shape"
   ]
  },
  {
   "cell_type": "code",
   "execution_count": 69,
   "metadata": {},
   "outputs": [
    {
     "data": {
      "text/plain": [
       "(3571, 34)"
      ]
     },
     "execution_count": 69,
     "metadata": {},
     "output_type": "execute_result"
    }
   ],
   "source": [
    "seasons_w_more_goals\n"
   ]
  },
  {
   "cell_type": "code",
   "execution_count": 70,
   "metadata": {},
   "outputs": [
    {
     "data": {
      "text/plain": [
       "0.41202261451482636"
      ]
     },
     "execution_count": 70,
     "metadata": {},
     "output_type": "execute_result"
    }
   ],
   "source": [
    "seasons_w_more_goals[0]/total_seasons"
   ]
  },
  {
   "cell_type": "code",
   "execution_count": 72,
   "metadata": {},
   "outputs": [
    {
     "data": {
      "text/plain": [
       "20072008"
      ]
     },
     "execution_count": 72,
     "metadata": {},
     "output_type": "execute_result"
    }
   ],
   "source": [
    "new_df.season_x.min()"
   ]
  },
  {
   "cell_type": "code",
   "execution_count": 73,
   "metadata": {},
   "outputs": [
    {
     "data": {
      "text/plain": [
       "0.42791842475386777"
      ]
     },
     "execution_count": 73,
     "metadata": {},
     "output_type": "execute_result"
    }
   ],
   "source": [
    "f_more_goals = forwards_df[forwards_df.g_y > forwards_df.g_x].shape[0]\n",
    "total_f_seasons = forwards_df.shape[0]\n",
    "f_more_goals/total_f_seasons"
   ]
  },
  {
   "cell_type": "code",
   "execution_count": null,
   "metadata": {},
   "outputs": [],
   "source": []
  }
 ],
 "metadata": {
  "kernelspec": {
   "display_name": "Python 3",
   "language": "python",
   "name": "python3"
  },
  "language_info": {
   "codemirror_mode": {
    "name": "ipython",
    "version": 3
   },
   "file_extension": ".py",
   "mimetype": "text/x-python",
   "name": "python",
   "nbconvert_exporter": "python",
   "pygments_lexer": "ipython3",
   "version": "3.8.5"
  }
 },
 "nbformat": 4,
 "nbformat_minor": 4
}
