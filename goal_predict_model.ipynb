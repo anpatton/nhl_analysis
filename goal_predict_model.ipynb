{
 "cells": [
  {
   "cell_type": "code",
   "execution_count": 78,
   "metadata": {},
   "outputs": [],
   "source": [
    "import os\n",
    "import pandas as pd\n",
    "import numpy as np\n",
    "import matplotlib.pyplot as plt\n",
    "#import psycopg2\n",
    "#import sqlalchemy as sa\n",
    "pd.set_option('display.max_columns', None)\n",
    "pd.set_option('display.max_rows', None)\n"
   ]
  },
  {
   "cell_type": "code",
   "execution_count": 79,
   "metadata": {},
   "outputs": [],
   "source": [
    "#pulling in data from EW database and writing to file only need to run this once\n",
    "#TODO: see if i can get PP TOI and Shooting Percentages and add in some stuff on sh% regressions\n",
    "#engine = sa.create_engine(os.environ[\"EW_CONNECT\"])\n",
    "\n",
    "sql = \"\"\"\n",
    "select \n",
    "    player\n",
    "    ,player_upper\n",
    "    ,api_id::integer\n",
    "    ,birthday\n",
    "    ,season_age\n",
    "    ,position\n",
    "    ,position_type\n",
    "    ,shoots\n",
    "    ,team\n",
    "    ,season\n",
    "    ,session\n",
    "    ,gp\n",
    "    ,toi\n",
    "    ,toi_gp\n",
    "    ,toi_perc\n",
    "    ,g\n",
    "    ,a1\n",
    "    ,a2\n",
    "    ,points\n",
    "from skater_std_sum_all\n",
    "where session = 'R'\n",
    "\"\"\"\n",
    "#nhl_df = pd.read_sql(sql, engine)\n",
    "#nhl_df.to_csv('player_goal_data.csv')"
   ]
  },
  {
   "cell_type": "code",
   "execution_count": 80,
   "metadata": {},
   "outputs": [],
   "source": [
    "nhl_df = pd.read_csv('player_goal_data.csv')\n",
    "#convert season to integers\n",
    "nhl_df.season = nhl_df.season.astype(int)\n",
    "#create a column to join on to get the next season\n",
    "nhl_df['season_minus_one'] = nhl_df['season'] - 10001\n",
    "nhl_df = nhl_df.groupby(['player', 'api_id', 'season', 'season_minus_one', \n",
    "                         'position_type', 'season_age'])[['g', 'a1', 'a2', 'points', 'toi', 'gp']].sum().reset_index()"
   ]
  },
  {
   "cell_type": "code",
   "execution_count": 81,
   "metadata": {},
   "outputs": [],
   "source": [
    "#create dataframe of season to season goal correlation\n",
    "new_df = nhl_df[['player', 'api_id', 'g', 'season', 'a1', 'a2', 'points', 'toi', 'gp',\n",
    "                 'season_minus_one', 'position_type', 'season_age']].merge(\n",
    "        nhl_df[['player', 'api_id', 'g', 'season', 'season_minus_one', 'position_type', 'season_age']], how='inner',\n",
    "        left_on=['api_id', 'season'], right_on=['api_id', 'season_minus_one'])\n",
    "\n",
    "new_df = new_df[new_df.gp >= 70]"
   ]
  },
  {
   "cell_type": "code",
   "execution_count": 82,
   "metadata": {},
   "outputs": [],
   "source": [
    "#Now start building a new linear model that takes into affect new features and maybe use \n",
    "#ridge or lasso for feature selection. Also doing a bagging regressor with this too\n",
    "#TODO: need to do some better feature/parameter creation i bet\n",
    "#features:\n",
    "#1.Season being predicted (dummy_variable) done\n",
    "#2. player age done\n",
    "#3. season # in the league (dummy variable)\n",
    "#4. position (dummy variable) done\n",
    "#5. toi_gp done\n",
    "#6. previous years goals done\n",
    "#7. previous years a1 done\n",
    "#8. previous years a2 done\n",
    "#9. previous years points done\n",
    "#10. Past average of past two years goals\n",
    "#season dummy variables\n",
    "new_df = pd.concat([new_df, pd.get_dummies(new_df['season_y'], prefix='season')], axis=1)\n",
    "#position dummy variable\n",
    "new_df = pd.concat([new_df, pd.get_dummies(new_df['position_type_x'], prefix='pos')], axis=1)\n",
    "#toi_gp\n",
    "new_df['toi_gp'] = round(new_df['toi']/new_df['gp'], 2)\n",
    "\n",
    "#create dataframe for forwards only\n",
    "forwards_df = new_df[new_df.position_type_x == 'F']\n",
    "#create dataframe for defense only\n",
    "defense_df = new_df[new_df.position_type_x == 'D']"
   ]
  },
  {
   "cell_type": "code",
   "execution_count": 83,
   "metadata": {},
   "outputs": [
    {
     "data": {
      "text/plain": [
       "Index(['player_x', 'api_id', 'g_x', 'season_x', 'a1', 'a2', 'points', 'toi',\n",
       "       'gp', 'season_minus_one_x', 'position_type_x', 'season_age_x',\n",
       "       'player_y', 'g_y', 'season_y', 'season_minus_one_y', 'position_type_y',\n",
       "       'season_age_y', 'season_20082009', 'season_20092010', 'season_20102011',\n",
       "       'season_20112012', 'season_20122013', 'season_20142015',\n",
       "       'season_20152016', 'season_20162017', 'season_20172018',\n",
       "       'season_20182019', 'season_20192020', 'pos_D', 'pos_D/F', 'pos_F',\n",
       "       'toi_gp'],\n",
       "      dtype='object')"
      ]
     },
     "execution_count": 83,
     "metadata": {},
     "output_type": "execute_result"
    }
   ],
   "source": [
    "new_df.columns"
   ]
  },
  {
   "cell_type": "code",
   "execution_count": 84,
   "metadata": {},
   "outputs": [
    {
     "data": {
      "text/plain": [
       "<matplotlib.collections.PathCollection at 0x131cca220>"
      ]
     },
     "execution_count": 84,
     "metadata": {},
     "output_type": "execute_result"
    },
    {
     "data": {
      "image/png": "[encoded data removed]",
      "text/plain": [
       "<Figure size 432x288 with 1 Axes>"
      ]
     },
     "metadata": {
      "needs_background": "light"
     },
     "output_type": "display_data"
    }
   ],
   "source": [
    "#total scatter correlation\n",
    "#this is the test of linearity\n",
    "plt.scatter(new_df[['g_x']], new_df[['g_y']])"
   ]
  },
  {
   "cell_type": "code",
   "execution_count": 85,
   "metadata": {},
   "outputs": [
    {
     "name": "stdout",
     "output_type": "stream",
     "text": [
      "Foward pearson R: 0.65\n",
      "Defense pearson R: 0.63\n",
      "All Position Pearson R: 0.74\n"
     ]
    }
   ],
   "source": [
    "#pearson correlation coefficients\n",
    "forward_corr = forwards_df['g_x'].corr(forwards_df['g_y'])\n",
    "def_corr = defense_df['g_x'].corr(defense_df['g_y'])\n",
    "total_corr = new_df['g_x'].corr(new_df['g_y'])\n",
    "print((f\"Foward pearson R: {round(forward_corr, 2)}\\n\"\n",
    "       f\"Defense pearson R: {round(def_corr, 2)}\\n\"\n",
    "       f\"All Position Pearson R: {round(total_corr, 2)}\"))"
   ]
  },
  {
   "cell_type": "code",
   "execution_count": 86,
   "metadata": {},
   "outputs": [],
   "source": [
    "#create a baseline linear model using previous season goals to predict next season\n",
    "#goals\n",
    "\n",
    "from sklearn.model_selection import train_test_split\n",
    "\n",
    "#create test and train dataframes\n",
    "train_df, test_df = train_test_split(new_df, test_size=0.2, random_state=8675309)\n",
    "\n"
   ]
  },
  {
   "cell_type": "code",
   "execution_count": 87,
   "metadata": {},
   "outputs": [
    {
     "data": {
      "text/plain": [
       "(array([406., 532., 438., 405., 537., 310., 281., 217., 212., 114.,  72.,\n",
       "         37.,  43.,  14.,   4.,  11.,   2.,   1.,   1.,   1.]),\n",
       " array([ 0.  ,  3.25,  6.5 ,  9.75, 13.  , 16.25, 19.5 , 22.75, 26.  ,\n",
       "        29.25, 32.5 , 35.75, 39.  , 42.25, 45.5 , 48.75, 52.  , 55.25,\n",
       "        58.5 , 61.75, 65.  ]),\n",
       " <BarContainer object of 20 artists>)"
      ]
     },
     "execution_count": 87,
     "metadata": {},
     "output_type": "execute_result"
    },
    {
     "data": {
      "image/png": "[encoded data removed]",
      "text/plain": [
       "<Figure size 432x288 with 1 Axes>"
      ]
     },
     "metadata": {
      "needs_background": "light"
     },
     "output_type": "display_data"
    }
   ],
   "source": [
    "#Distribution of the data fits a poisson or pareto distribution\n",
    "#this may be useful for more advanced models\n",
    "plt.hist(new_df.g_x, bins=20)"
   ]
  },
  {
   "cell_type": "code",
   "execution_count": 88,
   "metadata": {},
   "outputs": [
    {
     "data": {
      "text/plain": [
       "BaggingRegressor(base_estimator=LinearRegression(), n_estimators=5000)"
      ]
     },
     "execution_count": 88,
     "metadata": {},
     "output_type": "execute_result"
    }
   ],
   "source": [
    "from sklearn.linear_model import LinearRegression\n",
    "from sklearn.ensemble import BaggingRegressor\n",
    "from sklearn.metrics import mean_squared_error, r2_score\n",
    "\n",
    "n_estimators = 5000\n",
    "reg = BaggingRegressor(LinearRegression(), n_estimators=n_estimators, bootstrap=True)\n",
    "\n",
    "reg.fit(train_df[['g_x']], train_df[['g_y']].values[:,0])"
   ]
  },
  {
   "cell_type": "code",
   "execution_count": 89,
   "metadata": {},
   "outputs": [],
   "source": [
    "#This is bootstrapping a confidence interval for the results of linear regresssions\n",
    "def bootstrap_prediction(bag_reg: BaggingRegressor, value: int):\n",
    "    results = []\n",
    "    for m in bag_reg.estimators_:\n",
    "        results.append(m.predict(np.array([[value]]))[0])\n",
    "    return results"
   ]
  },
  {
   "cell_type": "code",
   "execution_count": 90,
   "metadata": {},
   "outputs": [
    {
     "data": {
      "text/plain": [
       "(array([  1.,   9.,  14.,  45.,  76., 176., 321., 480., 599., 638., 708.,\n",
       "        617., 510., 330., 222., 140.,  77.,  26.,   6.,   5.]),\n",
       " array([8.56247978, 8.59875578, 8.63503179, 8.6713078 , 8.7075838 ,\n",
       "        8.74385981, 8.78013582, 8.81641182, 8.85268783, 8.88896384,\n",
       "        8.92523984, 8.96151585, 8.99779186, 9.03406786, 9.07034387,\n",
       "        9.10661988, 9.14289588, 9.17917189, 9.2154479 , 9.2517239 ,\n",
       "        9.28799991]),\n",
       " <BarContainer object of 20 artists>)"
      ]
     },
     "execution_count": 90,
     "metadata": {},
     "output_type": "execute_result"
    },
    {
     "data": {
      "image/png": "[encoded data removed]",
      "text/plain": [
       "<Figure size 432x288 with 1 Axes>"
      ]
     },
     "metadata": {
      "needs_background": "light"
     },
     "output_type": "display_data"
    }
   ],
   "source": [
    "results = bootstrap_prediction(reg, 10)\n",
    "plt.hist(results, bins=20)"
   ]
  },
  {
   "cell_type": "code",
   "execution_count": 91,
   "metadata": {},
   "outputs": [
    {
     "name": "stdout",
     "output_type": "stream",
     "text": [
      "Baseline linear model train set metrics:\n",
      "R^2 for train set: 0.4469\n",
      "Mean Squared Error for train set: 40.8864\n",
      "Root Mean Squared Error for train set: 6.39\n"
     ]
    }
   ],
   "source": [
    "import math\n",
    "pd.options.mode.chained_assignment = None \n",
    "train_df[['y_hat']] = reg.predict(train_df[['g_x']])\n",
    "#Testing the coefficient of determination in the training set. R^2 is the proportion\n",
    "#of the variance in the dependent variable that is predictable from the independent variables\n",
    "r_squared = reg.score(train_df[['g_y']], train_df[['y_hat']])\n",
    "#Mean Squared Error is used to compare between different models where the smaller the number the better\n",
    "#An unbiased esitmator with the smallest variance among all unbiased estimators is the best unbiased\n",
    "#estimator or MVUE(minimum Variance Unbiased Estimator)\n",
    "mse = mean_squared_error(train_df[['g_y']], train_df[['y_hat']])\n",
    "print((\"Baseline linear model train set metrics:\\n\"\n",
    "       f\"R^2 for train set: {round(r_squared, 4)}\\n\"\n",
    "       f\"Mean Squared Error for train set: {round(mse, 4)}\\n\"\n",
    "       f\"Root Mean Squared Error for train set: {round(math.sqrt(mse), 2)}\"))"
   ]
  },
  {
   "cell_type": "code",
   "execution_count": 92,
   "metadata": {},
   "outputs": [
    {
     "name": "stdout",
     "output_type": "stream",
     "text": [
      "Baseline linear model test set metrics:\n",
      "R^2 for test set: 0.4171\n",
      "Mean Squared Error for test set: 45.5186\n",
      "Root Mean Squared Error for test set: 6.75\n"
     ]
    }
   ],
   "source": [
    "test_df[['y_hat']] = reg.predict(test_df[['g_x']])\n",
    "#Testing the coefficient of determination in the testing set. R^2 is the proportion\n",
    "#of the variance in the dependent variable that is predictable from the independent variables\n",
    "r_squared = reg.score(test_df[['g_y']], test_df[['y_hat']])\n",
    "#Mean Squared Error is used to compare between different models where the smaller the number the better\n",
    "#An unbiased esitmator with the smallest variance among all unbiased estimators is the best unbiased\n",
    "#estimator or MVUE(minimum Variance Unbiased Estimator)\n",
    "mse = mean_squared_error(test_df[['g_y']], test_df[['y_hat']])\n",
    "print((\"Baseline linear model test set metrics:\\n\"\n",
    "       f\"R^2 for test set: {round(r_squared, 4)}\\n\"\n",
    "       f\"Mean Squared Error for test set: {round(mse, 4)}\\n\"\n",
    "       f\"Root Mean Squared Error for test set: {round(math.sqrt(mse), 2)}\"))"
   ]
  },
  {
   "cell_type": "code",
   "execution_count": 93,
   "metadata": {},
   "outputs": [
    {
     "data": {
      "text/plain": [
       "Index(['player_x', 'api_id', 'g_x', 'season_x', 'a1', 'a2', 'points', 'toi',\n",
       "       'gp', 'season_minus_one_x', 'position_type_x', 'season_age_x',\n",
       "       'player_y', 'g_y', 'season_y', 'season_minus_one_y', 'position_type_y',\n",
       "       'season_age_y', 'season_20082009', 'season_20092010', 'season_20102011',\n",
       "       'season_20112012', 'season_20122013', 'season_20142015',\n",
       "       'season_20152016', 'season_20162017', 'season_20172018',\n",
       "       'season_20182019', 'season_20192020', 'pos_D', 'pos_D/F', 'pos_F',\n",
       "       'toi_gp', 'y_hat'],\n",
       "      dtype='object')"
      ]
     },
     "execution_count": 93,
     "metadata": {},
     "output_type": "execute_result"
    }
   ],
   "source": [
    "train_df.columns"
   ]
  },
  {
   "cell_type": "code",
   "execution_count": 94,
   "metadata": {},
   "outputs": [
    {
     "data": {
      "text/plain": [
       "BaggingRegressor(base_estimator=LinearRegression(), n_estimators=5000)"
      ]
     },
     "execution_count": 94,
     "metadata": {},
     "output_type": "execute_result"
    }
   ],
   "source": [
    "#Start training the model using more variables and compare to the baseline\n",
    "n_estimators = 5000\n",
    "multi_var_reg = BaggingRegressor(LinearRegression(), n_estimators=n_estimators, bootstrap=True)\n",
    "\n",
    "multi_var_reg.fit(train_df[['g_x','season_age_y', 'toi_gp', 'a1', 'a2', \n",
    "                            'points', 'season_y', 'pos_D', 'pos_D/F', 'pos_F']], train_df[['g_y']].values[:,0])\n"
   ]
  },
  {
   "cell_type": "code",
   "execution_count": 95,
   "metadata": {},
   "outputs": [],
   "source": [
    "import math\n",
    "pd.options.mode.chained_assignment = None \n",
    "train_df[['y_hat_multi']] = multi_var_reg.predict(train_df[['g_x','season_age_y', 'toi_gp', 'a1', 'a2', \n",
    "                                                            'points', 'season_y', 'pos_D', 'pos_D/F', 'pos_F']])\n"
   ]
  },
  {
   "cell_type": "code",
   "execution_count": 96,
   "metadata": {},
   "outputs": [
    {
     "name": "stdout",
     "output_type": "stream",
     "text": [
      "Baseline linear model train set metrics:\n",
      "R^2 for train set: 0.5916\n",
      "Mean Squared Error for train set: 37.2311\n",
      "Root Mean Squared Error for train set: 6.1\n"
     ]
    }
   ],
   "source": [
    "#Testing the coefficient of determination in the training set. R^2 is the proportion\n",
    "#of the variance in the dependent variable that is predictable from the independent variables\n",
    "r_squared = multi_var_reg.score(train_df[['g_x','season_age_y', 'toi_gp', 'a1', 'a2', \n",
    "                                          'points', 'season_y', 'pos_D', 'pos_D/F', 'pos_F']], train_df[['g_y']])\n",
    "#Mean Squared Error is used to compare between different models where the smaller the number the better\n",
    "#An unbiased esitmator with the smallest variance among all unbiased estimators is the best unbiased\n",
    "#estimator or MVUE(minimum Variance Unbiased Estimator)\n",
    "mse = mean_squared_error(train_df[['g_y']], train_df[['y_hat_multi']])\n",
    "print((\"Baseline linear model train set metrics:\\n\"\n",
    "       f\"R^2 for train set: {round(r_squared, 4)}\\n\"\n",
    "       f\"Mean Squared Error for train set: {round(mse, 4)}\\n\"\n",
    "       f\"Root Mean Squared Error for train set: {round(math.sqrt(mse), 2)}\"))"
   ]
  },
  {
   "cell_type": "code",
   "execution_count": 97,
   "metadata": {},
   "outputs": [
    {
     "name": "stdout",
     "output_type": "stream",
     "text": [
      "Baseline linear model test set metrics:\n",
      "R^2 for test set: 0.579\n",
      "Mean Squared Error for test set: 42.3895\n",
      "Root Mean Squared Error for test set: 6.51\n",
      "Mean Absolute Error for test set: 4.86\n"
     ]
    }
   ],
   "source": [
    "from sklearn.metrics import mean_absolute_error\n",
    "test_df[['y_hat_multi']] = multi_var_reg.predict(test_df[['g_x','season_age_y', 'toi_gp', 'a1', 'a2', \n",
    "                                                            'points', 'season_y', 'pos_D', 'pos_D/F', 'pos_F']])\n",
    "\n",
    "#Testing the coefficient of determination in the training set. R^2 is the proportion\n",
    "#of the variance in the dependent variable that is predictable from the independent variables\n",
    "r_squared = multi_var_reg.score(test_df[['g_x','season_age_y', 'toi_gp', 'a1', 'a2', \n",
    "                                          'points', 'season_y', 'pos_D', 'pos_D/F', 'pos_F']], test_df[['g_y']])\n",
    "#Mean Squared Error is used to compare between different models where the smaller the number the better\n",
    "#An unbiased esitmator with the smallest variance among all unbiased estimators is the best unbiased\n",
    "#estimator or MVUE(minimum Variance Unbiased Estimator)\n",
    "mse = mean_squared_error(test_df[['g_y']], test_df[['y_hat_multi']])\n",
    "print((\"Baseline linear model test set metrics:\\n\"\n",
    "       f\"R^2 for test set: {round(r_squared, 4)}\\n\"\n",
    "       f\"Mean Squared Error for test set: {round(mse, 4)}\\n\"\n",
    "       f\"Root Mean Squared Error for test set: {round(math.sqrt(mse), 2)}\\n\"\n",
    "       f\"Mean Absolute Error for test set: \"\n",
    "       f\"{round(mean_absolute_error(test_df[['g_y']], test_df[['y_hat_multi']]), 2)}\"))\n",
    "\n",
    "#This model does allright however i think it underates the ability of a player to score more goals the next season\n",
    "#especially on outliers when those are usually the more talented players who would have a higher probability \n",
    "#of scoring at or more. I think there should be some probability in my distributions of prediction intervals\n",
    "#to score more goals however slight Not sure how to get there yet. 2020-10-18"
   ]
  },
  {
   "cell_type": "code",
   "execution_count": 72,
   "metadata": {},
   "outputs": [
    {
     "data": {
      "text/plain": [
       "array([[30., 13., 59.]])"
      ]
     },
     "execution_count": 72,
     "metadata": {},
     "output_type": "execute_result"
    }
   ],
   "source": [
    "test_row = test_df[['g_x','season_age_y', 'toi_gp', 'a1', 'a2', 'points', \n",
    "                    'season_y', 'pos_D', 'pos_D/F', 'pos_F']].loc[5359, :]\n",
    "\n",
    "np.array([test_row])"
   ]
  },
  {
   "cell_type": "code",
   "execution_count": 73,
   "metadata": {},
   "outputs": [],
   "source": [
    "results = []\n",
    "for m in multi_var_reg.estimators_:\n",
    "    results.append(m.predict([test_row]))"
   ]
  },
  {
   "cell_type": "code",
   "execution_count": 74,
   "metadata": {},
   "outputs": [
    {
     "data": {
      "text/plain": [
       "array([22.31486903])"
      ]
     },
     "execution_count": 74,
     "metadata": {},
     "output_type": "execute_result"
    }
   ],
   "source": [
    "multi_var_reg.predict([test_row])"
   ]
  },
  {
   "cell_type": "code",
   "execution_count": 75,
   "metadata": {},
   "outputs": [],
   "source": [
    "results = [x[0] for x in results]"
   ]
  },
  {
   "cell_type": "code",
   "execution_count": 76,
   "metadata": {},
   "outputs": [
    {
     "data": {
      "text/plain": [
       "g_x       30.0\n",
       "a2        13.0\n",
       "points    59.0\n",
       "Name: 5359, dtype: float64"
      ]
     },
     "execution_count": 76,
     "metadata": {},
     "output_type": "execute_result"
    }
   ],
   "source": [
    "test_row"
   ]
  },
  {
   "cell_type": "code",
   "execution_count": 77,
   "metadata": {},
   "outputs": [
    {
     "data": {
      "text/plain": [
       "(array([  1.,   4.,   4.,   9.,  27.,  68., 137., 272., 447., 659., 727.,\n",
       "        756., 659., 501., 378., 193., 106.,  35.,  15.,   2.]),\n",
       " array([20.90087746, 21.02705963, 21.1532418 , 21.27942397, 21.40560614,\n",
       "        21.5317883 , 21.65797047, 21.78415264, 21.91033481, 22.03651697,\n",
       "        22.16269914, 22.28888131, 22.41506348, 22.54124564, 22.66742781,\n",
       "        22.79360998, 22.91979215, 23.04597431, 23.17215648, 23.29833865,\n",
       "        23.42452082]),\n",
       " <BarContainer object of 20 artists>)"
      ]
     },
     "execution_count": 77,
     "metadata": {},
     "output_type": "execute_result"
    },
    {
     "data": {
      "image/png": "[encoded data removed]",
      "text/plain": [
       "<Figure size 432x288 with 1 Axes>"
      ]
     },
     "metadata": {
      "needs_background": "light"
     },
     "output_type": "display_data"
    }
   ],
   "source": [
    "plt.hist(results, bins=20)\n"
   ]
  },
  {
   "cell_type": "code",
   "execution_count": 54,
   "metadata": {},
   "outputs": [],
   "source": [
    "forty_df = new_df[new_df.g_x >= 30]"
   ]
  },
  {
   "cell_type": "code",
   "execution_count": 55,
   "metadata": {},
   "outputs": [
    {
     "data": {
      "text/plain": [
       "0.38095238095238093"
      ]
     },
     "execution_count": 55,
     "metadata": {},
     "output_type": "execute_result"
    }
   ],
   "source": [
    "len(forty_df[forty_df.g_y >= 30].player_x.unique())/len(forty_df.player_x.unique())"
   ]
  },
  {
   "cell_type": "code",
   "execution_count": 47,
   "metadata": {},
   "outputs": [
    {
     "data": {
      "text/plain": [
       "56"
      ]
     },
     "execution_count": 47,
     "metadata": {},
     "output_type": "execute_result"
    }
   ],
   "source": [
    "len(forty_df[forty_df.g_y >= 30].player_x.unique())"
   ]
  },
  {
   "cell_type": "code",
   "execution_count": 35,
   "metadata": {
    "scrolled": true
   },
   "outputs": [
    {
     "data": {
      "text/plain": [
       "(array([ 1.,  4.,  1.,  1.,  3.,  6.,  3.,  8.,  4., 14.,  7.,  4.,  2.,\n",
       "         2.,  1.,  1.,  3.,  1.,  1.,  1.]),\n",
       " array([ 9.  , 11.55, 14.1 , 16.65, 19.2 , 21.75, 24.3 , 26.85, 29.4 ,\n",
       "        31.95, 34.5 , 37.05, 39.6 , 42.15, 44.7 , 47.25, 49.8 , 52.35,\n",
       "        54.9 , 57.45, 60.  ]),\n",
       " <BarContainer object of 20 artists>)"
      ]
     },
     "execution_count": 35,
     "metadata": {},
     "output_type": "execute_result"
    },
    {
     "data": {
      "image/png": "[encoded data removed]",
      "text/plain": [
       "<Figure size 432x288 with 1 Axes>"
      ]
     },
     "metadata": {
      "needs_background": "light"
     },
     "output_type": "display_data"
    }
   ],
   "source": [
    "plt.hist(forty_df['g_y'], bins=20)"
   ]
  },
  {
   "cell_type": "code",
   "execution_count": null,
   "metadata": {},
   "outputs": [],
   "source": []
  },
  {
   "cell_type": "code",
   "execution_count": null,
   "metadata": {},
   "outputs": [],
   "source": [
    "#write a funciton to determine the pareto division of how much of the fat tail is held by what \n",
    "#percentage of players"
   ]
  },
  {
   "cell_type": "code",
   "execution_count": 216,
   "metadata": {},
   "outputs": [],
   "source": [
    "#pareto distribution function\n",
    "import math\n",
    "alpha = 1/(1-(math.log10(.7)/math.log10(0.3)))\n",
    "x_sub_m = 1\n",
    "def pareto_prob(x):\n",
    "    \"\"\"\n",
    "    returns probability that some number X will be greater than x by the distribution of the Pareto curve\n",
    "    defined by observed goal scoring behavior\n",
    "    \"\"\"\n",
    "    alpha = 1/(1-(math.log10(.7)/math.log10(0.3)))\n",
    "    x_sub_m = 1\n",
    "    return (x_sub_m/x)^alpha"
   ]
  },
  {
   "cell_type": "code",
   "execution_count": 65,
   "metadata": {},
   "outputs": [],
   "source": [
    "total_seasons=new_df.shape[0]"
   ]
  },
  {
   "cell_type": "code",
   "execution_count": 66,
   "metadata": {},
   "outputs": [],
   "source": [
    "more_goals_df = new_df[new_df.g_y > new_df.g_x]"
   ]
  },
  {
   "cell_type": "code",
   "execution_count": 67,
   "metadata": {},
   "outputs": [],
   "source": [
    "seasons_w_more_goals = more_goals_df.shape"
   ]
  },
  {
   "cell_type": "code",
   "execution_count": 69,
   "metadata": {},
   "outputs": [
    {
     "data": {
      "text/plain": [
       "(3571, 34)"
      ]
     },
     "execution_count": 69,
     "metadata": {},
     "output_type": "execute_result"
    }
   ],
   "source": [
    "seasons_w_more_goals\n"
   ]
  },
  {
   "cell_type": "code",
   "execution_count": 70,
   "metadata": {},
   "outputs": [
    {
     "data": {
      "text/plain": [
       "0.41202261451482636"
      ]
     },
     "execution_count": 70,
     "metadata": {},
     "output_type": "execute_result"
    }
   ],
   "source": [
    "seasons_w_more_goals[0]/total_seasons"
   ]
  },
  {
   "cell_type": "code",
   "execution_count": 72,
   "metadata": {},
   "outputs": [
    {
     "data": {
      "text/plain": [
       "20072008"
      ]
     },
     "execution_count": 72,
     "metadata": {},
     "output_type": "execute_result"
    }
   ],
   "source": [
    "new_df.season_x.min()"
   ]
  },
  {
   "cell_type": "code",
   "execution_count": 73,
   "metadata": {},
   "outputs": [
    {
     "data": {
      "text/plain": [
       "0.42791842475386777"
      ]
     },
     "execution_count": 73,
     "metadata": {},
     "output_type": "execute_result"
    }
   ],
   "source": [
    "f_more_goals = forwards_df[forwards_df.g_y > forwards_df.g_x].shape[0]\n",
    "total_f_seasons = forwards_df.shape[0]\n",
    "f_more_goals/total_f_seasons"
   ]
  },
  {
   "cell_type": "code",
   "execution_count": null,
   "metadata": {},
   "outputs": [],
   "source": []
  }
 ],
 "metadata": {
  "kernelspec": {
   "display_name": "Python 3",
   "language": "python",
   "name": "python3"
  },
  "language_info": {
   "codemirror_mode": {
    "name": "ipython",
    "version": 3
   },
   "file_extension": ".py",
   "mimetype": "text/x-python",
   "name": "python",
   "nbconvert_exporter": "python",
   "pygments_lexer": "ipython3",
   "version": "3.8.5"
  }
 },
 "nbformat": 4,
 "nbformat_minor": 4
}
